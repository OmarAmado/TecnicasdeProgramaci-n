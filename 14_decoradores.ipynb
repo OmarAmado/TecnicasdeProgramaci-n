{
 "cells": [
  {
   "cell_type": "code",
   "execution_count": null,
   "id": "82be2135",
   "metadata": {
    "ExecuteTime": {
     "end_time": "2023-06-14T21:36:56.071660Z",
     "start_time": "2023-06-14T21:36:56.061463Z"
    }
   },
   "outputs": [],
   "source": [
    "import warnings\n",
    "from IPython.display import display, HTML\n",
    "warnings.filterwarnings('ignore')\n",
    "display(HTML(\"<style>.container { width:100% !important; }</style>\"))"
   ]
  },
  {
   "cell_type": "markdown",
   "id": "7cc6d1b6",
   "metadata": {},
   "source": [
    "# Decoradores\n",
    "\n",
    "Los decoradores son una característica importante de Python que permiten modificar el comportamiento de una función o método existente sin modificar su código fuente subyacente. Esto se logra mediante la adición de una funcionalidad adicional a la función o método existente a través de una sintaxis especial de Python.\n",
    "\n",
    "Antes de hablar de decoradores, es importante entender que en Python, una función es simplemente un objeto de primera clase, lo que significa que puede ser tratada como cualquier otra variable en Python. Las funciones pueden ser asignadas a variables, pasadas como argumentos a otras funciones y retornadas como valores desde otras funciones. Esta flexibilidad en el manejo de las funciones en Python es una de las razones por las que los decoradores son posibles."
   ]
  },
  {
   "cell_type": "code",
   "execution_count": null,
   "id": "23e8c040",
   "metadata": {
    "ExecuteTime": {
     "end_time": "2023-06-14T21:37:30.967286Z",
     "start_time": "2023-06-14T21:37:30.959311Z"
    }
   },
   "outputs": [],
   "source": [
    "def say_hello(name):\n",
    "    print(\"Hello, \" + name)\n",
    "\n",
    "my_func = say_hello\n",
    "my_func(\"Alice\")"
   ]
  },
  {
   "cell_type": "markdown",
   "id": "fc48b5b4",
   "metadata": {},
   "source": [
    "Otro concepto importante es el de la función anidada o nested function. En Python, una función puede definirse dentro de otra función, lo que da como resultado una función anidada. Esta función anidada puede acceder a las variables locales de la función que la contiene."
   ]
  },
  {
   "cell_type": "code",
   "execution_count": null,
   "id": "0e39653b",
   "metadata": {
    "ExecuteTime": {
     "end_time": "2023-06-14T21:38:14.725255Z",
     "start_time": "2023-06-14T21:38:14.719253Z"
    }
   },
   "outputs": [],
   "source": [
    "def funcion_padre():\n",
    "    variable_padre = 'Hola'\n",
    "\n",
    "    def funcion_hija():\n",
    "        print(variable_padre)\n",
    "\n",
    "    funcion_hija()\n",
    "\n",
    "funcion_padre()  # Imprime 'Hola'"
   ]
  },
  {
   "cell_type": "markdown",
   "id": "fe70106c",
   "metadata": {},
   "source": [
    "Con estos conceptos en mente, podemos empezar a hablar de decoradores. Los decoradores son simplemente funciones que toman otra función como argumento y retornan una función modificada. La función modificada puede tener el mismo comportamiento que la función original o puede tener un comportamiento completamente diferente.\n",
    "\n",
    "Un ejemplo sencillo de decorador es el siguiente:"
   ]
  },
  {
   "cell_type": "code",
   "execution_count": null,
   "id": "d49b8087",
   "metadata": {
    "ExecuteTime": {
     "end_time": "2023-06-14T21:41:49.078349Z",
     "start_time": "2023-06-14T21:41:49.068988Z"
    }
   },
   "outputs": [],
   "source": [
    "def decorador(funcion_original):\n",
    "    def nueva_funcion():\n",
    "        print(\"Antes de la función.\")\n",
    "        funcion_original()\n",
    "        print(\"Después de la función.\")\n",
    "    return nueva_funcion\n",
    "\n",
    "def funcion():\n",
    "    print(\"Función original.\")\n",
    "\n",
    "decorada = decorador(funcion)\n",
    "decorada()"
   ]
  },
  {
   "cell_type": "markdown",
   "id": "0665c170",
   "metadata": {},
   "source": [
    "En este ejemplo, tenemos una función `decorador` que toma como argumento una función `funcion_original`. La función `decorador` define una nueva función nueva_funcion que imprime un mensaje antes y después de llamar a `funcion_original`. La función `decorador` retorna la función `nueva_funcion`. Luego definimos una función `funcion` que simplemente imprime un mensaje. Finalmente, llamamos a `decorador` pasando `funcion` como argumento y asignamos el resultado a `decorada`. Luego llamamos a `decorada`, que imprime el mensaje antes y después de llamar a `funcion`.\n",
    "\n",
    "## Parámetro Especiales `*args` y `**kwargs`\n",
    "\n",
    "En Python, se utilizan dos parámetros especiales en las funciones: `*args` y `**kwargs`. Estos parámetros permiten a una función aceptar un número variable de argumentos posicionales (`*args`) y argumentos de palabra clave (`**kwargs`).\n",
    "\n",
    "El parámetro `*args` permite pasar un número variable de argumentos posicionales a una función. Los argumentos se pasan como una tupla y se pueden utilizar en la función con el nombre del parámetro precedido por un asterisco.\n",
    "\n",
    "Aquí hay un ejemplo de cómo se puede utilizar `*args`:"
   ]
  },
  {
   "cell_type": "code",
   "execution_count": null,
   "id": "df7c8230",
   "metadata": {
    "ExecuteTime": {
     "end_time": "2023-06-14T21:46:39.980453Z",
     "start_time": "2023-06-14T21:46:39.970002Z"
    }
   },
   "outputs": [],
   "source": [
    "def my_function(*args):\n",
    "    for arg in args:\n",
    "        print(arg)\n",
    "\n",
    "my_function(1,2,3,4)"
   ]
  },
  {
   "cell_type": "markdown",
   "id": "d0483ae9",
   "metadata": {},
   "source": [
    "En este ejemplo, se define una función `my_function` que acepta cualquier número de argumentos posicionales. Dentro de la función, se itera a través de cada argumento y se imprime en la consola.\n",
    "\n",
    "El parámetro `**kwargs` permite pasar un número variable de argumentos de palabra clave a una función. Los argumentos se pasan como un diccionario y se pueden utilizar en la función con el nombre del parámetro precedido por dos asteriscos.\n",
    "\n",
    "Aquí hay un ejemplo de cómo se puede utilizar `**kwargs`:"
   ]
  },
  {
   "cell_type": "code",
   "execution_count": null,
   "id": "fcc1e227",
   "metadata": {
    "ExecuteTime": {
     "end_time": "2023-06-14T21:48:47.903108Z",
     "start_time": "2023-06-14T21:48:47.892621Z"
    }
   },
   "outputs": [],
   "source": [
    "def my_function(**kwargs):\n",
    "    for key, value in kwargs.items():\n",
    "        print(f\"{key}: {value}\")\n",
    "\n",
    "my_function(name=\"Alice\", age=28, city=\"New York\")"
   ]
  },
  {
   "cell_type": "markdown",
   "id": "c975828c",
   "metadata": {},
   "source": [
    "En este ejemplo, se define una función `my_function` que acepta cualquier número de argumentos de palabra clave. Dentro de la función, se itera a través de cada argumento y se imprime la clave y el valor en la consola.\n",
    "\n",
    "También es posible utilizar tanto `*args` como `**kwargs` en la misma función. En este caso, `*args` se define antes de `**kwargs` en la lista de parámetros.\n",
    "\n",
    "Aquí hay un ejemplo de cómo se puede utilizar ambos parámetros en una misma función:"
   ]
  },
  {
   "cell_type": "code",
   "execution_count": null,
   "id": "73e2d298",
   "metadata": {
    "ExecuteTime": {
     "end_time": "2023-06-14T21:49:07.160590Z",
     "start_time": "2023-06-14T21:49:07.151598Z"
    }
   },
   "outputs": [],
   "source": [
    "def my_function(*args, **kwargs):\n",
    "    for arg in args:\n",
    "        print(arg)\n",
    "    for key, value in kwargs.items():\n",
    "        print(f\"{key}: {value}\")\n",
    "\n",
    "my_function(1, 2, 3, name=\"Alice\", age=28, city=\"New York\")"
   ]
  },
  {
   "cell_type": "markdown",
   "id": "e0749bc8",
   "metadata": {},
   "source": [
    "En este ejemplo, se define una función `my_function` que acepta tanto argumentos posicionales como de palabra clave. Dentro de la función, se itera a través de cada argumento y se imprime en la consola, primero los argumentos posicionales y luego los de palabra clave.\n",
    "\n",
    "## Sintaxis @\n",
    "\n",
    "La sintaxis \"@\" es utilizada para indicar que una función en Python está decorada por otra función. El decorador es una función que toma una función como argumento y devuelve otra función. Esta nueva función es la versión decorada de la función original.\n",
    "\n",
    "La sintaxis para utilizar un decorador es la siguiente:"
   ]
  },
  {
   "cell_type": "raw",
   "id": "7d71fb27",
   "metadata": {},
   "source": [
    "@decorador\n",
    "def funcion():\n",
    "    # Cuerpo de la función"
   ]
  },
  {
   "cell_type": "markdown",
   "id": "28cbba05",
   "metadata": {},
   "source": [
    "Donde \"decorador\" es el nombre de la función decoradora que queremos aplicar a \"funcion\". La función \"decorador\" toma como argumento la función original \"funcion\" y devuelve una nueva función que reemplaza a la original. Esta nueva función puede realizar alguna operación adicional antes o después de llamar a la función original.\n",
    "\n",
    "Es importante mencionar que la sintaxis con \"@\" es solo un atajo para escribir la siguiente sintaxis equivalente:"
   ]
  },
  {
   "cell_type": "markdown",
   "id": "1c976338",
   "metadata": {},
   "source": [
    "def funcion():\n",
    "    # Cuerpo de la función\n",
    "\n",
    "funcion = decorador(funcion)"
   ]
  },
  {
   "cell_type": "markdown",
   "id": "88b06a62",
   "metadata": {},
   "source": [
    "Donde \"decorador\" es la función decoradora que queremos aplicar a \"funcion\".\n",
    "\n",
    "Ahora vamos a revisar un ejemplo de las ideas recién expuestas. El siguiente es un ejemplo sencillo donde se define una función `saludar` y luego se le aplica el decorador `decorator_saludo` utilizando la sintaxis `@`."
   ]
  },
  {
   "cell_type": "code",
   "execution_count": null,
   "id": "6b8e1b7a",
   "metadata": {
    "ExecuteTime": {
     "end_time": "2023-06-14T21:52:30.856201Z",
     "start_time": "2023-06-14T21:52:30.849227Z"
    }
   },
   "outputs": [],
   "source": [
    "def decorator_saludo(func):\n",
    "    def wrapper(*args, **kwargs):\n",
    "        print(\"¡Hola! Antes de ejecutar la función:\")\n",
    "        return func(*args, **kwargs)\n",
    "    return wrapper\n",
    "\n",
    "@decorator_saludo\n",
    "def saludar(nombre):\n",
    "    print(f\"Hola {nombre}, bienvenido(a)!\")\n",
    "    \n",
    "# Usando la función decorada\n",
    "saludar(\"Juan\")"
   ]
  },
  {
   "cell_type": "markdown",
   "id": "bb29b9c5",
   "metadata": {},
   "source": [
    "En este ejemplo, el decorador `decorator_saludo` se define como una función que toma como argumento otra función, la cual será decorada. La función `wrapper` es la que se devuelve como decoración, y se encarga de imprimir un saludo antes de ejecutar la función original. Luego, la función `saludar` se define utilizando la sintaxis `@decorator_saludo`, lo que significa que cuando se llame a `saludar`, en realidad se estará llamando a la función `wrapper` devuelta por `decorator_saludo`, y no directamente a `saludar`.\n",
    "\n",
    "Si se quisiera hacer esto mismo sin utilizar la sintaxis @, se podría escribir el código de la siguiente manera:"
   ]
  },
  {
   "cell_type": "code",
   "execution_count": null,
   "id": "963bcae8",
   "metadata": {
    "ExecuteTime": {
     "end_time": "2023-06-14T21:52:36.833859Z",
     "start_time": "2023-06-14T21:52:36.827198Z"
    }
   },
   "outputs": [],
   "source": [
    "def decorator_saludo(func):\n",
    "    def wrapper(*args, **kwargs):\n",
    "        print(\"¡Hola! Antes de ejecutar la función:\")\n",
    "        return func(*args, **kwargs)\n",
    "    return wrapper\n",
    "\n",
    "def saludar(nombre):\n",
    "    print(f\"Hola {nombre}, bienvenido(a)!\")\n",
    "    \n",
    "saludar_con_saludo = decorator_saludo(saludar)\n",
    "saludar_con_saludo(\"Juan\")"
   ]
  },
  {
   "cell_type": "markdown",
   "id": "1394c00a",
   "metadata": {},
   "source": [
    "En este caso, se define primero la función `saludar`, y luego se aplica el decorador `decorator_saludo` a la función utilizando la sintaxis clásica de Python, es decir, llamando a `decorator_saludo` y pasando como argumento la función `saludar`. El resultado de esto es una nueva función, que se guarda en la variable `saludar_con_saludo`, y que puede ser llamada para ejecutar la función original `saludar` con la funcionalidad adicional proporcionada por el decorador."
   ]
  },
  {
   "cell_type": "markdown",
   "id": "48437664",
   "metadata": {},
   "source": [
    "## Ejemplo\n",
    "\n",
    "Un ejemplo de complejidad básica podría ser un decorador que mida el tiempo de ejecución de una función:"
   ]
  },
  {
   "cell_type": "code",
   "execution_count": null,
   "id": "ab72249d",
   "metadata": {
    "ExecuteTime": {
     "end_time": "2023-06-14T21:54:41.736555Z",
     "start_time": "2023-06-14T21:54:41.432476Z"
    }
   },
   "outputs": [],
   "source": [
    "import time\n",
    "\n",
    "def timer_decorator(func):\n",
    "    def wrapper(*args, **kwargs):\n",
    "        start_time = time.time()\n",
    "        result = func(*args, **kwargs)\n",
    "        end_time = time.time()\n",
    "        print(\"Tiempo de ejecución:\", end_time - start_time, \"segundos.\")\n",
    "        return result\n",
    "    return wrapper\n",
    "\n",
    "@timer_decorator\n",
    "def example_function(n):\n",
    "    # Realiza un cálculo complejo\n",
    "    result = sum([i**2 for i in range(n)])\n",
    "    return result\n",
    "\n",
    "# Llamamos a la función decorada\n",
    "print(example_function(10000000))"
   ]
  },
  {
   "cell_type": "markdown",
   "id": "d7198f23",
   "metadata": {},
   "source": [
    "En este ejemplo, definimos un decorador `timer_decorator` que mide el tiempo de ejecución de la función que decora. La función decorada es `example_function`, que realiza un cálculo complejo que toma un tiempo significativo en ejecutarse. Al utilizar el decorador `timer_decorator` en `example_function` con la sintaxis `@`, medimos el tiempo de ejecución de `example_function` cada vez que la llamamos."
   ]
  }
 ],
 "metadata": {
  "kernelspec": {
   "display_name": "Python 3 (ipykernel)",
   "language": "python",
   "name": "python3"
  },
  "language_info": {
   "codemirror_mode": {
    "name": "ipython",
    "version": 3
   },
   "file_extension": ".py",
   "mimetype": "text/x-python",
   "name": "python",
   "nbconvert_exporter": "python",
   "pygments_lexer": "ipython3",
   "version": "3.10.13"
  },
  "varInspector": {
   "cols": {
    "lenName": 16,
    "lenType": 16,
    "lenVar": 40
   },
   "kernels_config": {
    "python": {
     "delete_cmd_postfix": "",
     "delete_cmd_prefix": "del ",
     "library": "var_list.py",
     "varRefreshCmd": "print(var_dic_list())"
    },
    "r": {
     "delete_cmd_postfix": ") ",
     "delete_cmd_prefix": "rm(",
     "library": "var_list.r",
     "varRefreshCmd": "cat(var_dic_list()) "
    }
   },
   "types_to_exclude": [
    "module",
    "function",
    "builtin_function_or_method",
    "instance",
    "_Feature"
   ],
   "window_display": false
  }
 },
 "nbformat": 4,
 "nbformat_minor": 5
}
