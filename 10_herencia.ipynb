{
 "cells": [
  {
   "cell_type": "code",
   "execution_count": null,
   "id": "a33ea25f",
   "metadata": {
    "ExecuteTime": {
     "end_time": "2023-03-22T21:40:23.621716Z",
     "start_time": "2023-03-22T21:40:23.605715Z"
    }
   },
   "outputs": [],
   "source": [
    "import warnings\n",
    "from IPython.display import display, HTML\n",
    "warnings.filterwarnings('ignore')\n",
    "display(HTML(\"<style>.container { width:100% !important; }</style>\"))"
   ]
  },
  {
   "cell_type": "markdown",
   "id": "7f4d4d21",
   "metadata": {},
   "source": [
    "# Herencia en Programación Orientada a Objetos\n",
    "La herencia es un concepto fundamental en la programación orientada a objetos (OOP). Permite crear una nueva clase que herede atributos y métodos de una clase existente. La nueva clase se denomina subclase o clase derivada, mientras que la clase de la que se hereda se denomina superclase o clase base. La herencia facilita la reutilización de código, reduce la redundancia y promueve la modularidad.\n",
    "\n",
    "## Clases y Objetos\n",
    "Antes de profundizar en la herencia, es esencial entender los conceptos de clases y objetos en OOP.\n",
    "\n",
    "## Clase\n",
    "Una clase es un modelo o plantilla que define las características y comportamientos comunes de un grupo de objetos similares. Contiene atributos y métodos que describen las propiedades y acciones de los objetos."
   ]
  },
  {
   "cell_type": "code",
   "execution_count": null,
   "id": "272e3ae1",
   "metadata": {
    "ExecuteTime": {
     "end_time": "2023-03-22T21:44:42.763520Z",
     "start_time": "2023-03-22T21:44:42.755536Z"
    }
   },
   "outputs": [],
   "source": [
    "class Coche:\n",
    "    def __init__(self, marca, modelo, año):\n",
    "        self.marca = marca\n",
    "        self.modelo = modelo\n",
    "        self.año = año\n",
    "        \n",
    "    def acelerar(self):\n",
    "        print(f\"El coche {self.marca} {self.modelo} está acelerando.\")"
   ]
  },
  {
   "cell_type": "markdown",
   "id": "e4de866f",
   "metadata": {},
   "source": [
    "## Objeto\n",
    "Un objeto es una instancia de una clase que representa un elemento específico dentro del dominio del problema. Cada objeto tiene su propio conjunto de atributos y puede utilizar los métodos definidos en su clase."
   ]
  },
  {
   "cell_type": "code",
   "execution_count": null,
   "id": "bcb90dd0",
   "metadata": {
    "ExecuteTime": {
     "end_time": "2023-03-22T21:44:44.916875Z",
     "start_time": "2023-03-22T21:44:44.896563Z"
    }
   },
   "outputs": [],
   "source": [
    "coche1 = Coche(\"Toyota\", \"Corolla\", 2020)\n",
    "coche1.acelerar()"
   ]
  },
  {
   "cell_type": "markdown",
   "id": "80ef85ac",
   "metadata": {},
   "source": [
    "## Herencia Simple\n",
    "La herencia simple es un tipo de herencia donde una subclase hereda de una sola superclase. La subclase puede agregar o modificar atributos y métodos de la superclase.\n",
    "\n",
    "`super()` es una función integrada en Python que se utiliza para llamar a un método de la superclase. En el caso de la herencia simple, se utiliza comúnmente para llamar al método `__init__()` de la superclase desde la subclase, asegurando que los atributos de la superclase se inicialicen correctamente antes de agregar o modificar atributos en la subclase."
   ]
  },
  {
   "cell_type": "code",
   "execution_count": null,
   "id": "28735257",
   "metadata": {
    "ExecuteTime": {
     "end_time": "2023-03-22T21:49:11.916635Z",
     "start_time": "2023-03-22T21:49:11.900641Z"
    }
   },
   "outputs": [],
   "source": [
    "class CocheElectrico(Coche):\n",
    "    def __init__(self, marca, modelo, año, autonomia):\n",
    "        super().__init__(marca, modelo, año)\n",
    "        self.autonomia = autonomia\n",
    "        \n",
    "    def cargar(self):\n",
    "        print(f\"El coche eléctrico {self.marca} {self.modelo} se está cargando.\")"
   ]
  },
  {
   "cell_type": "markdown",
   "id": "4aa0b263",
   "metadata": {},
   "source": [
    "En este ejemplo, `super().__init__(marca, modelo, año)` llama al método `__init__()` de la superclase `Coche` y le pasa los argumentos marca, modelo y año. De esta manera, se asegura que los atributos marca, modelo y año de la superclase se inicialicen correctamente en el objeto `CocheElectrico`."
   ]
  },
  {
   "cell_type": "code",
   "execution_count": null,
   "id": "feae25b4",
   "metadata": {
    "ExecuteTime": {
     "end_time": "2023-03-22T21:50:20.911952Z",
     "start_time": "2023-03-22T21:50:20.899722Z"
    }
   },
   "outputs": [],
   "source": [
    "coche1=CocheElectrico('Tesla','X',2023,500)"
   ]
  },
  {
   "cell_type": "code",
   "execution_count": null,
   "id": "1d32025a",
   "metadata": {
    "ExecuteTime": {
     "end_time": "2023-03-22T21:51:06.034971Z",
     "start_time": "2023-03-22T21:51:06.026972Z"
    }
   },
   "outputs": [],
   "source": [
    "coche1.acelerar()"
   ]
  },
  {
   "cell_type": "code",
   "execution_count": null,
   "id": "cc870b4e",
   "metadata": {},
   "outputs": [],
   "source": [
    "coche1.cargar()"
   ]
  },
  {
   "cell_type": "code",
   "execution_count": null,
   "id": "c8360b56",
   "metadata": {},
   "outputs": [],
   "source": [
    "coche1.año"
   ]
  },
  {
   "cell_type": "markdown",
   "id": "3c3636c9",
   "metadata": {},
   "source": [
    "## Herencia Múltiple\n",
    "La herencia múltiple es un tipo de herencia en la que una subclase hereda de más de una superclase. Es importante tener cuidado con la herencia múltiple, ya que puede generar problemas de ambigüedad si las superclases tienen atributos o métodos con el mismo nombre.\n",
    "\n",
    "En el caso de la herencia múltiple, `super()` puede ser un poco más complejo debido al orden de resolución de métodos, también conocido como MRO (Method Resolution Order). El MRO es el orden en que Python busca un método en las superclases antes de encontrarlo y ejecutarlo.\n",
    "\n",
    "Cuando se utiliza `super()` en herencia múltiple, se llama al método de la siguiente clase en el MRO, según la clase actual. El MRO se puede determinar utilizando el método `mro()` de una clase o la función integrada `help()`."
   ]
  },
  {
   "cell_type": "code",
   "execution_count": null,
   "id": "8143c686",
   "metadata": {
    "ExecuteTime": {
     "end_time": "2023-03-22T21:54:57.639099Z",
     "start_time": "2023-03-22T21:54:57.619478Z"
    }
   },
   "outputs": [],
   "source": [
    "class A:\n",
    "    def metodo(self):\n",
    "        print(\"Método en clase A\")\n",
    "\n",
    "class B:\n",
    "    def metodo(self):\n",
    "        print(\"Método en clase B\")\n",
    "\n",
    "class C(A,B):\n",
    "    def metodo(self):\n",
    "        print(\"Método en clase C\")\n",
    "        super().metodo()\n",
    "\n",
    "c = C()\n",
    "c.metodo()  # La salida será:\n",
    "# Método en clase C\n",
    "# Método en clase A"
   ]
  },
  {
   "cell_type": "markdown",
   "id": "edeff989",
   "metadata": {},
   "source": [
    "En este ejemplo, cuando se llama a `super().metodo()` desde la clase C, se ejecuta el método `metodo()` de la clase A, ya que A es la siguiente clase en el MRO después de C."
   ]
  },
  {
   "cell_type": "markdown",
   "id": "5d56e7ad",
   "metadata": {},
   "source": [
    "## Otras opciones para llamar a métodos de superclases\n",
    "Aunque `super()` es la forma más común y recomendada de llamar a métodos de superclases en Python, también es posible llamar a un método de una superclase específica directamente utilizando su nombre."
   ]
  },
  {
   "cell_type": "code",
   "execution_count": null,
   "id": "522637bd",
   "metadata": {
    "ExecuteTime": {
     "end_time": "2023-03-22T19:56:01.587421Z",
     "start_time": "2023-03-22T19:56:01.577409Z"
    }
   },
   "outputs": [],
   "source": [
    "class CocheElectrico(Coche):\n",
    "    def __init__(self, marca, modelo, año, autonomia):\n",
    "        Coche.__init__(self, marca, modelo, año)  # Llamada directa al método __init__() de la superclase Coche\n",
    "        self.autonomia = autonomia"
   ]
  },
  {
   "cell_type": "markdown",
   "id": "15433a30",
   "metadata": {},
   "source": [
    "Sin embargo, esta forma de llamar a métodos de superclases puede ser menos flexible y más propensa a errores, especialmente en casos de herencia múltiple o cuando se modifican las relaciones de herencia en el futuro. Por lo tanto, se recomienda utilizar `super()` siempre que sea posible."
   ]
  },
  {
   "cell_type": "markdown",
   "id": "86b9f888",
   "metadata": {},
   "source": [
    "## Sobrescribir Métodos\n",
    "En la herencia, a menudo es necesario modificar el comportamiento de un método heredado de la superclase. Este proceso se llama sobrescribir o \"overriding\" un método. Para sobrescribir un método, simplemente se redefine en la subclase con la misma firma (nombre y parámetros) que en la superclase."
   ]
  },
  {
   "cell_type": "code",
   "execution_count": null,
   "id": "38407f49",
   "metadata": {
    "ExecuteTime": {
     "end_time": "2023-03-22T21:58:33.513419Z",
     "start_time": "2023-03-22T21:58:33.501867Z"
    }
   },
   "outputs": [],
   "source": [
    "class CocheElectrico(Coche):\n",
    "    def __init__(self, marca, modelo, año, autonomia):\n",
    "        super().__init__(marca, modelo, año)\n",
    "        self.autonomia = autonomia\n",
    "\n",
    "    def acelerar(self):  # Sobrescribiendo el método acelerar() de la superclase Coche\n",
    "        print(f\"El coche eléctrico {self.marca} {self.modelo} está acelerando.\")"
   ]
  },
  {
   "cell_type": "code",
   "execution_count": null,
   "id": "8e9aff53",
   "metadata": {},
   "outputs": [],
   "source": [
    "coche1=CocheElectrico('Tesla','X',2023,500)\n",
    "coche1.acelerar()"
   ]
  },
  {
   "cell_type": "markdown",
   "id": "01e0ca3e",
   "metadata": {},
   "source": [
    "Cuando se sobrescribe un método, también es posible llamar al método original de la superclase utilizando `super()`. Esto puede ser útil cuando se desea extender o modificar el comportamiento del método original, en lugar de reemplazarlo completamente."
   ]
  },
  {
   "cell_type": "code",
   "execution_count": null,
   "id": "70975acd",
   "metadata": {
    "ExecuteTime": {
     "end_time": "2023-03-22T21:59:42.182900Z",
     "start_time": "2023-03-22T21:59:42.165352Z"
    }
   },
   "outputs": [],
   "source": [
    "class CocheElectrico(Coche):\n",
    "    def __init__(self, marca, modelo, año, autonomia):\n",
    "        super().__init__(marca, modelo, año)\n",
    "        self.autonomia = autonomia\n",
    "\n",
    "    def acelerar(self):  # Sobrescribiendo y extendiendo el método acelerar() de la superclase Coche\n",
    "        super().acelerar()\n",
    "        print(\"Además, este coche es eléctrico.\")"
   ]
  },
  {
   "cell_type": "code",
   "execution_count": null,
   "id": "6841057d",
   "metadata": {},
   "outputs": [],
   "source": [
    "coche1=CocheElectrico('Tesla','X',2023,500)\n",
    "coche1.acelerar()"
   ]
  },
  {
   "cell_type": "markdown",
   "id": "628e9eb0",
   "metadata": {},
   "source": [
    "## Redefinición de métodos en subclases\n",
    "No es obligatorio redefinir los métodos de la superclase en una subclase. Si una subclase no reemplaza un método de la superclase, el método de la superclase se utilizará directamente en la subclase. La redefinición de métodos en subclases se realiza solo cuando se necesita modificar o extender el comportamiento del método original heredado de la superclase.\n",
    "\n",
    "### Ejemplo sin redefinición de métodos"
   ]
  },
  {
   "cell_type": "code",
   "execution_count": null,
   "id": "6d77b70c",
   "metadata": {
    "ExecuteTime": {
     "end_time": "2023-03-22T22:00:28.633513Z",
     "start_time": "2023-03-22T22:00:28.617512Z"
    }
   },
   "outputs": [],
   "source": [
    "class Animal:\n",
    "    def sonido(self):\n",
    "        return \"Un animal hace un sonido\"\n",
    "\n",
    "class Perro(Animal):\n",
    "    pass\n",
    "\n",
    "class Gato(Animal):\n",
    "    pass\n",
    "\n",
    "perro = Perro()\n",
    "gato = Gato()\n",
    "\n",
    "print(perro.sonido())  # Salida: Un animal hace un sonido\n",
    "print(gato.sonido())   # Salida: Un animal hace un sonido"
   ]
  },
  {
   "cell_type": "markdown",
   "id": "6032cd3b",
   "metadata": {},
   "source": [
    "En este ejemplo, la clase `Animal` tiene un método llamado `sonido()`. Las subclases `Perro` y `Gato` heredan de la clase `Anima`, pero no redefinen el método `sonido()`. Como resultado, al llamar al método `sonido()` en objetos de las clases `Perro` y `Gato`, se utiliza la implementación del método `sonido()` de la superclase `Animal`.\n",
    "\n",
    "### Ejemplo con redefinición de métodos."
   ]
  },
  {
   "cell_type": "code",
   "execution_count": null,
   "id": "4fc0652b",
   "metadata": {
    "ExecuteTime": {
     "end_time": "2023-03-22T22:00:57.081869Z",
     "start_time": "2023-03-22T22:00:57.065820Z"
    }
   },
   "outputs": [],
   "source": [
    "class Animal:\n",
    "    def sonido(self):\n",
    "        return \"Un animal hace un sonido\"\n",
    "\n",
    "class Perro(Animal):\n",
    "    def sonido(self):  # Método redefinido en la subclase Perro\n",
    "        return \"Guau!\"\n",
    "\n",
    "class Gato(Animal):\n",
    "    def sonido(self):  # Método redefinido en la subclase Gato\n",
    "        return \"Miau!\"\n",
    "\n",
    "perro = Perro()\n",
    "gato = Gato()\n",
    "\n",
    "print(perro.sonido())  # Salida: Guau!\n",
    "print(gato.sonido())   # Salida: Miau!"
   ]
  },
  {
   "cell_type": "markdown",
   "id": "6e8e329f",
   "metadata": {},
   "source": [
    "En este ejemplo, las subclases `Perro` y `Gato` redefinen el método `sonido()` heredado de la clase `Animal`. Como resultado, al llamar al método `sonido()` en objetos de las clases `Perro` y `Gato`, se utiliza la implementación del método `sonido()` redefinido en cada subclase."
   ]
  },
  {
   "cell_type": "markdown",
   "id": "9aa922c0",
   "metadata": {},
   "source": [
    "## Polimorfismo\n",
    "El polimorfismo es un concepto fundamental en la programación orientada a objetos que permite a objetos de diferentes clases ser tratados como objetos de una clase común. En otras palabras, el polimorfismo permite que una misma interfaz sea utilizada para representar diferentes tipos de datos o clases. Esto proporciona una mayor flexibilidad y facilita la reutilización de código.\n",
    "\n",
    "El polimorfismo en Python se logra mediante la herencia y la implementación de métodos con el mismo nombre en diferentes clases. No es necesario declarar explícitamente las clases o los métodos como polimórficos, ya que Python es un lenguaje de tipado dinámico.\n",
    "\n",
    "### Ejemplo de Polimorfismo\n",
    "En el siguiente ejemplo, se define una clase `Vehiculo` y dos subclases `Coche` y `Avion`. La clase `Vehiculo` tiene un método llamado `moverse()`, que es redefinido en ambas subclases."
   ]
  },
  {
   "cell_type": "code",
   "execution_count": null,
   "id": "f4d12d6c",
   "metadata": {
    "ExecuteTime": {
     "end_time": "2023-03-22T22:05:07.821776Z",
     "start_time": "2023-03-22T22:05:07.805772Z"
    }
   },
   "outputs": [],
   "source": [
    "class Vehiculo:\n",
    "    def moverse(self):\n",
    "        return \"El vehículo se mueve\"\n",
    "\n",
    "class Coche(Vehiculo):\n",
    "    def moverse(self):  # Método redefinido en la subclase Coche\n",
    "        return \"El coche se mueve por tierra\"\n",
    "\n",
    "class Avion(Vehiculo):\n",
    "    def moverse(self):  # Método redefinido en la subclase Avion\n",
    "        return \"El avión se mueve por aire\"\n",
    "\n",
    "def describir_movimiento(vehiculo):\n",
    "    print(vehiculo.moverse())\n",
    "\n",
    "coche = Coche()\n",
    "avion = Avion()\n",
    "\n",
    "describir_movimiento(coche)  # Salida: El coche se mueve por tierra\n",
    "describir_movimiento(avion)  # Salida: El avión se mueve por aire"
   ]
  },
  {
   "cell_type": "markdown",
   "id": "27c2c2ea",
   "metadata": {},
   "source": [
    "En este ejemplo, la función `describir_movimiento()` acepta un objeto de tipo `Vehiculo` y llama a su método `moverse()`. Aunque los objetos `coche` y `avion` son instancias de diferentes clases (`Coche` y `Avion`), ambos pueden ser pasados a la función `describir_movimiento()` porque heredan de la clase común `Vehiculo`.\n",
    "\n",
    "Cuando se llama a la función `describir_movimiento()` con un objeto `Coche`, se ejecuta el método `moverse()` de la clase `Coche`, y cuando se llama con un objeto `Avion`, se ejecuta el método `moverse()` de la clase `Avion`. Esto demuestra el polimorfismo en acción, ya que la función `describir_movimiento()` puede trabajar con objetos de diferentes clases (`Coche` y `Avion`) siempre que ambas clases hereden de la clase `Vehiculo` e implementen el método `moverse()`.\n",
    "\n",
    "El polimorfismo permite que el código sea más flexible y fácil de mantener, ya que no es necesario conocer el tipo exacto de cada objeto para interactuar con él. En lugar de eso, se puede confiar en la interfaz común proporcionada por la clase base o superclase."
   ]
  },
  {
   "cell_type": "markdown",
   "id": "92a4d960",
   "metadata": {},
   "source": [
    "## Encapsulamiento\n",
    "El encapsulamiento es otro concepto importante en OOP que se relaciona con la herencia. Consiste en ocultar los detalles de implementación de una clase y exponer solo lo necesario a través de una interfaz. En Python, no existen modificadores de acceso estrictos como private o protected, pero se pueden simular usando un guion bajo _ o dos guiones bajos __ antes del nombre del atributo o método."
   ]
  },
  {
   "cell_type": "code",
   "execution_count": null,
   "id": "5d5ec4a0",
   "metadata": {
    "ExecuteTime": {
     "end_time": "2023-03-22T22:07:45.658515Z",
     "start_time": "2023-03-22T22:07:45.644935Z"
    }
   },
   "outputs": [],
   "source": [
    "class Ejemplo:\n",
    "    def __init__(self):\n",
    "        self.publico = \"Soy un atributo público\"\n",
    "        self._protegido = \"Soy un atributo protegido\"\n",
    "        self.__privado = \"Soy un atributo privado\"\n",
    "\n",
    "    def metodo_publico(self):\n",
    "        return \"Soy un método público\"\n",
    "\n",
    "    def _metodo_protegido(self):\n",
    "        return \"Soy un método protegido\"\n",
    "\n",
    "    def __metodo_privado(self):\n",
    "        return \"Soy un método privado\""
   ]
  },
  {
   "cell_type": "markdown",
   "id": "aaa4b6fa",
   "metadata": {},
   "source": [
    "Un atributo o método protegido se indica con un guion bajo _ y, aunque puede ser accedido desde fuera de la clase, se entiende que debe ser utilizado solo por la clase y sus subclases. Un atributo o método privado se indica con dos guiones bajos __ y no puede ser accedido directamente desde fuera de la clase, ya que su nombre se \"manglea\" o se altera para evitar conflictos con subclases.\n",
    "\n",
    "Cuando un atributo o método en Python tiene un nombre que comienza con dos guiones bajos, el intérprete de Python modifica automáticamente su nombre para incluir el nombre de la clase, utilizando el siguiente patrón:"
   ]
  },
  {
   "cell_type": "raw",
   "id": "f88e5fbf",
   "metadata": {},
   "source": [
    "_nombreClase__nombreAtributoOMetodo"
   ]
  },
  {
   "cell_type": "markdown",
   "id": "4e21af55",
   "metadata": {},
   "source": [
    "Este cambio en el nombre hace que sea más difícil acceder o modificar accidentalmente el atributo o método desde fuera de la clase o en una subclase, aunque técnicamente aún es posible hacerlo."
   ]
  },
  {
   "cell_type": "code",
   "execution_count": null,
   "id": "400c90a8",
   "metadata": {
    "ExecuteTime": {
     "end_time": "2023-03-22T22:07:48.303402Z",
     "start_time": "2023-03-22T22:07:48.283404Z"
    }
   },
   "outputs": [],
   "source": [
    "ejemplo = Ejemplo()\n",
    "print(ejemplo.publico)           # Salida: Soy un atributo público\n",
    "print(ejemplo._protegido)        # Salida: Soy un atributo protegido\n",
    "print(ejemplo._Ejemplo__privado) # Salida: Soy un atributo privado (no se recomienda acceder de esta manera)\n",
    "\n",
    "print(ejemplo.metodo_publico())           # Salida: Soy un método público\n",
    "print(ejemplo._metodo_protegido())        # Salida: Soy un método protegido\n",
    "print(ejemplo._Ejemplo__metodo_privado()) # Salida: Soy un método privado (no se recomienda acceder de esta manera)"
   ]
  },
  {
   "cell_type": "code",
   "execution_count": null,
   "id": "461a3299",
   "metadata": {},
   "outputs": [],
   "source": [
    "ejemplo._Ejemplo__privado"
   ]
  },
  {
   "cell_type": "markdown",
   "id": "3d42013a",
   "metadata": {},
   "source": [
    "El name mangling, o mangleo de nombres, es un mecanismo en Python que altera el nombre de los atributos o métodos que están precedidos por dos guiones bajos (`__`). El objetivo del name mangling es proteger estos atributos o métodos de ser sobrescritos o accedidos accidentalmente en subclases o desde fuera de la clase.\n",
    "\n",
    "Es importante destacar que el name mangling no garantiza una privacidad total de los atributos y métodos, ya que aún es posible acceder a ellos utilizando sus nombres \"mangleados\". Sin embargo, este mecanismo hace que sea más difícil el acceso y modificación accidental de estos elementos y proporciona una convención para indicar que estos"
   ]
  }
 ],
 "metadata": {
  "kernelspec": {
   "display_name": "Python 3 (ipykernel)",
   "language": "python",
   "name": "python3"
  },
  "language_info": {
   "codemirror_mode": {
    "name": "ipython",
    "version": 3
   },
   "file_extension": ".py",
   "mimetype": "text/x-python",
   "name": "python",
   "nbconvert_exporter": "python",
   "pygments_lexer": "ipython3",
   "version": "3.10.13"
  },
  "varInspector": {
   "cols": {
    "lenName": 16,
    "lenType": 16,
    "lenVar": 40
   },
   "kernels_config": {
    "python": {
     "delete_cmd_postfix": "",
     "delete_cmd_prefix": "del ",
     "library": "var_list.py",
     "varRefreshCmd": "print(var_dic_list())"
    },
    "r": {
     "delete_cmd_postfix": ") ",
     "delete_cmd_prefix": "rm(",
     "library": "var_list.r",
     "varRefreshCmd": "cat(var_dic_list()) "
    }
   },
   "types_to_exclude": [
    "module",
    "function",
    "builtin_function_or_method",
    "instance",
    "_Feature"
   ],
   "window_display": false
  }
 },
 "nbformat": 4,
 "nbformat_minor": 5
}
