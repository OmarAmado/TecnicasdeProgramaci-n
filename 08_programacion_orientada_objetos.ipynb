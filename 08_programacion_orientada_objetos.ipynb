{
 "cells": [
  {
   "cell_type": "code",
   "execution_count": null,
   "id": "411852fd",
   "metadata": {
    "ExecuteTime": {
     "end_time": "2023-09-06T21:27:57.109473Z",
     "start_time": "2023-09-06T21:27:57.084291Z"
    }
   },
   "outputs": [],
   "source": [
    "import warnings\n",
    "from IPython.display import display, HTML\n",
    "warnings.filterwarnings('ignore')\n",
    "display(HTML(\"<style>.container { width:100% !important; }</style>\"))"
   ]
  },
  {
   "cell_type": "markdown",
   "id": "87e587a1",
   "metadata": {},
   "source": [
    "# Introducción a la programación orientada a objetos\n"
   ]
  },
  {
   "cell_type": "markdown",
   "id": "93f44e54",
   "metadata": {},
   "source": [
    "## Qué es la programación orientada a objetos\n",
    "\n",
    "La programación orientada a objetos (POO) es un paradigma de programación que se centra en el uso de objetos y sus interacciones para resolver problemas. En POO, un objeto es una instancia de una clase, que a su vez es una estructura de datos que describe una entidad con características y comportamientos específicos.\n",
    "\n",
    "Un objeto en POO tiene atributos que describen su estado y métodos que definen su comportamiento. Por ejemplo, si estamos modelando un coche, un objeto de la clase \"coche\" podría tener atributos como \"color\", \"modelo\", \"kilometraje\", \"velocidad actual\", etc., y métodos como \"acelerar\", \"frenar\", \"girar\", etc.\n",
    "\n",
    "La POO se considera un paradigma poderoso y eficiente porque permite la creación de programas modulares, escalables y reutilizables. En lugar de escribir código repetitivo, la POO permite encapsular el código en objetos y clases, lo que simplifica el diseño y la implementación de programas complejos. Además, la POO permite la creación de nuevas clases a partir de otras ya existentes mediante la herencia, lo que fomenta la reutilización de código.\n",
    "\n",
    "En comparación con otros paradigmas de programación, como la programación estructurada, la POO se centra más en los datos y menos en las funciones. En lugar de tener un conjunto de funciones que operan en los datos, la POO trata de agrupar los datos y las funciones en objetos para crear un código más claro y fácil de entender."
   ]
  },
  {
   "cell_type": "markdown",
   "id": "b97ed349",
   "metadata": {},
   "source": [
    "## Conceptos básicos: objetos, clases, herencia, polimorfismo\n",
    "\n",
    "### Objetos\n",
    "Un objeto es una instancia de una clase. En la programación orientada a objetos, los objetos se utilizan para modelar entidades del mundo real, como personas, coches, animales, etc.\n",
    "\n",
    "Cada objeto tiene un estado y un comportamiento. El estado de un objeto se define mediante sus atributos, que son variables que describen las características del objeto. El comportamiento de un objeto se define mediante sus métodos, que son funciones que se pueden llamar en el objeto para realizar acciones o procesar datos.\n",
    "\n",
    "### Clases\n",
    "Una clase es una plantilla o molde para crear objetos. En la programación orientada a objetos, las clases se utilizan para definir los atributos y métodos que tendrán los objetos creados a partir de ellas.\n",
    "\n",
    "Las clases se pueden considerar como una especie de fábrica para crear objetos. Una vez que se ha definido una clase, se pueden crear múltiples objetos a partir de ella. Cada objeto creado a partir de una clase tiene los mismos atributos y métodos que la clase, pero puede tener diferentes valores para los atributos.\n",
    "\n",
    "### Herencia\n",
    "La herencia es un mecanismo que permite crear nuevas clases a partir de clases ya existentes. La clase original se conoce como clase base o superclase, y la nueva clase se conoce como clase derivada o subclase.\n",
    "\n",
    "La herencia se utiliza para compartir atributos y métodos entre clases relacionadas, lo que reduce la cantidad de código necesario y facilita la reutilización del código. En una jerarquía de clases, las subclases heredan los atributos y métodos de sus superclases y pueden agregar nuevos atributos y métodos propios.\n",
    "\n",
    "### Polimorfismo\n",
    "El polimorfismo es la capacidad de los objetos de diferentes clases para responder al mismo mensaje o llamada de función. Esto se logra mediante la definición de métodos con el mismo nombre en diferentes clases.\n",
    "\n",
    "El polimorfismo permite escribir código más genérico y reutilizable, ya que se puede llamar a los mismos métodos en diferentes objetos y clases sin conocer su tipo específico. Por ejemplo, si tenemos una clase \"Animal\" con un método \"hacer_sonido\", y las subclases \"Perro\" y \"Gato\" que sobrescriben este método, podemos llamar al método \"hacer_sonido\" en un objeto de la clase \"Animal\" y obtener diferentes resultados según la subclase."
   ]
  },
  {
   "cell_type": "markdown",
   "id": "91928830",
   "metadata": {},
   "source": [
    "## Ventajas y desventajas de la programación orientada a objetos\n",
    "\n",
    "### Ventajas de la programación orientada a objetos\n",
    "La programación orientada a objetos ofrece varias ventajas en comparación con otros paradigmas de programación:\n",
    "\n",
    "#### Reutilización de código\n",
    "Una de las principales ventajas de la programación orientada a objetos es la reutilización de código. En lugar de escribir código repetitivo, se pueden definir clases y objetos que encapsulan el código y se pueden utilizar en diferentes partes del programa. Esto hace que el código sea más fácil de mantener y evita errores comunes.\n",
    "\n",
    "#### Modularidad\n",
    "La programación orientada a objetos fomenta la modularidad, es decir, la división del programa en piezas más pequeñas y manejables. Cada objeto se puede considerar como un módulo en sí mismo, lo que simplifica el diseño y la implementación de programas complejos.\n",
    "\n",
    "#### Flexibilidad y escalabilidad\n",
    "La programación orientada a objetos permite crear programas flexibles y escalables que se pueden modificar y ampliar con facilidad. Las clases y objetos se pueden modificar y extender para adaptarse a diferentes situaciones sin tener que reescribir todo el programa.\n",
    "\n",
    "#### Abstracción\n",
    "La abstracción en la programación orientada a objetos es un concepto que se refiere a la definición de interfaces y la ocultación de detalles de implementación. La idea es que los objetos se comuniquen entre sí a través de interfaces bien definidas, en lugar de exponer los detalles de implementación interna.\n",
    "\n",
    "Por ejemplo, si tenemos una clase que representa una base de datos, no queremos que los usuarios accedan directamente a la base de datos o que sepan cómo se implementa. En su lugar, definimos una interfaz que expone solo los métodos necesarios para interactuar con la base de datos, como \"conectar\", \"consultar\", \"actualizar\" y \"borrar\".\n",
    "\n",
    "De esta manera, los usuarios pueden interactuar con la base de datos sin tener que preocuparse por cómo se implementa internamente. La abstracción en este caso ayuda a reducir la complejidad y a evitar errores comunes.\n",
    "\n",
    "### Desventajas de la programación orientada a objetos\n",
    "Aunque la programación orientada a objetos ofrece muchas ventajas, también presenta algunas desventajas:\n",
    "\n",
    "#### Complejidad\n",
    "La programación orientada a objetos puede ser más compleja que otros paradigmas de programación, ya que implica la definición de clases, objetos y relaciones entre ellos. Esto puede dificultar la comprensión y el mantenimiento del código para programadores novatos.\n",
    "\n",
    "#### Sobrecarga de memoria\n",
    "La programación orientada a objetos puede sobrecargar la memoria del sistema debido a la creación de múltiples objetos y la duplicación de datos. Esto puede ser un problema en sistemas con recursos limitados.\n",
    "\n",
    "#### Rendimiento\n",
    "La programación orientada a objetos puede tener un rendimiento más lento que otros paradigmas de programación, debido a la creación y manipulación de objetos. Sin embargo, esto depende del lenguaje de programación utilizado y de cómo se implemente la programación orientada a objetos."
   ]
  },
  {
   "cell_type": "markdown",
   "id": "4bb29300",
   "metadata": {},
   "source": [
    "## Comparación con otros paradigmas de programación\n",
    "\n",
    "La programación orientada a objetos se ha convertido en uno de los paradigmas de programación más utilizados en la actualidad, pero existen otros paradigmas que se utilizan ampliamente en la programación. Aquí te presento una comparación entre la programación orientada a objetos y otros dos paradigmas de programación populares: la programación estructurada y la programación funcional.\n",
    "\n",
    "### Programación estructurada\n",
    "La programación estructurada es un paradigma de programación que se centra en la organización lógica y estructurada del código. En la programación estructurada, los programas se dividen en pequeñas unidades lógicas llamadas funciones, que realizan tareas específicas. Estas funciones se organizan en un árbol jerárquico de estructuras de control, como bucles y condicionales.\n",
    "\n",
    "La programación orientada a objetos difiere de la programación estructurada en que se centra en la encapsulación de datos y el comportamiento en objetos y clases. En lugar de tener un conjunto de funciones que operan en los datos, la POO trata de agrupar los datos y las funciones en objetos para crear un código más claro y fácil de entender. Además, la POO permite la creación de nuevas clases a partir de otras ya existentes mediante la herencia, lo que fomenta la reutilización de código.\n",
    "\n",
    "### Programación funcional\n",
    "La programación funcional es un paradigma de programación que se centra en el uso de funciones para resolver problemas. En la programación funcional, las funciones se tratan como objetos de primera clase, lo que significa que se pueden pasar como argumentos a otras funciones, devolver como resultado de otras funciones y almacenar en variables.\n",
    "\n",
    "La programación orientada a objetos difiere de la programación funcional en que se centra en la encapsulación de datos y el comportamiento en objetos y clases. Mientras que en la programación funcional se enfatiza en la pureza de las funciones y la inmutabilidad de los datos, en la POO se permite la mutabilidad de los datos y se enfoca en la creación de objetos con estado y comportamiento."
   ]
  },
  {
   "cell_type": "markdown",
   "id": "e05c935d",
   "metadata": {},
   "source": [
    "# Clases y objetos\n"
   ]
  },
  {
   "cell_type": "markdown",
   "id": "7b0ad6ed",
   "metadata": {},
   "source": [
    "## Creación de clases en Python\n",
    "En Python, se pueden crear clases utilizando la palabra clave `class`. La sintaxis básica para crear una clase es la siguiente:"
   ]
  },
  {
   "cell_type": "raw",
   "id": "e5282a8d",
   "metadata": {},
   "source": [
    "class NombreDeLaClase:\n",
    "    def __init__(self, argumentos):\n",
    "        # Constructor de la clase\n",
    "        # Define los atributos de la clase\n",
    "        self.atributo1 = valor1\n",
    "        self.atributo2 = valor2\n",
    "        \n",
    "    def metodo1(self, argumentos):\n",
    "        # Definición de un método\n",
    "        # Realiza alguna acción utilizando los atributos de la clase\n",
    "        # Retorna algún valor si es necesario\n",
    "        return valor\n",
    "        \n",
    "    def metodo2(self, argumentos):\n",
    "        # Definición de otro método\n",
    "        # Realiza alguna otra acción utilizando los atributos de la clase\n",
    "        # Retorna algún valor si es necesario\n",
    "        return valor"
   ]
  },
  {
   "cell_type": "markdown",
   "id": "9064afac",
   "metadata": {},
   "source": [
    "En este ejemplo, se define una clase llamada `NombreDeLaClase`. La clase tiene un constructor `init` que se llama cuando se crea un nuevo objeto de la clase. El constructor define los atributos de la clase y los inicializa con los valores que se le pasan como argumentos.\n",
    "\n",
    "La clase también tiene dos métodos `metodo1` y `metodo2` que realizan acciones utilizando los atributos de la clase y pueden retornar valores si es necesario.\n",
    "\n",
    "Aquí te presento dos ejemplos clásicos de clases en Python:\n",
    "\n",
    "### Ejemplo 1: Clase Coche"
   ]
  },
  {
   "cell_type": "code",
   "execution_count": null,
   "id": "4aa4e63d",
   "metadata": {
    "ExecuteTime": {
     "end_time": "2023-09-06T22:13:50.454455Z",
     "start_time": "2023-09-06T22:13:50.438445Z"
    }
   },
   "outputs": [],
   "source": [
    "class Coche:\n",
    "    def __init__(self, color, modelo, kilometraje):\n",
    "        self.color = color\n",
    "        self.modelo = modelo\n",
    "        self.kilometraje = kilometraje\n",
    "        \n",
    "    def acelerar(self, velocidad):\n",
    "        self.kilometraje += velocidad\n",
    "        return self.kilometraje\n",
    "        \n",
    "    def frenar(self, velocidad):\n",
    "        self.kilometraje -= velocidad\n",
    "        return self.kilometraje"
   ]
  },
  {
   "cell_type": "markdown",
   "id": "4a2a2c94",
   "metadata": {},
   "source": [
    "En este ejemplo, se define una clase `Coche` con atributos de `color`, `modelo` y `kilometraje`. La clase también tiene dos métodos `acelerar` y `frenar` que modifican el `kilometraje` del coche."
   ]
  },
  {
   "cell_type": "markdown",
   "id": "6798b4d6",
   "metadata": {},
   "source": [
    "### Ejemplo 2: Clase Persona"
   ]
  },
  {
   "cell_type": "code",
   "execution_count": null,
   "id": "9cfcb349",
   "metadata": {
    "ExecuteTime": {
     "end_time": "2023-09-06T22:14:41.083503Z",
     "start_time": "2023-09-06T22:14:41.069936Z"
    }
   },
   "outputs": [],
   "source": [
    "class Persona:\n",
    "    def __init__(self, nombre, edad, direccion):\n",
    "        self.nombre = nombre\n",
    "        self.edad = edad\n",
    "        self.direccion = direccion\n",
    "        \n",
    "    def cambiar_direccion(self, nueva_direccion):\n",
    "        self.direccion = nueva_direccion\n",
    "        \n",
    "    def es_mayor_de_edad(self):\n",
    "        return self.edad >= 18"
   ]
  },
  {
   "cell_type": "markdown",
   "id": "a4473be7",
   "metadata": {},
   "source": [
    "En este ejemplo, se define una clase `Persona` con atributos de `nombre`, `edad` y `direccion`. La clase también tiene dos métodos `cambiar_direccion` y `es_mayor_de_edad` que modifican la `direccion` de la persona y verifican si la persona es mayor de edad."
   ]
  },
  {
   "cell_type": "markdown",
   "id": "47454cdc",
   "metadata": {},
   "source": [
    "## Instanciación de objetos\n",
    "La instanciación de objetos es el proceso de crear una instancia o ejemplar de una clase. En otras palabras, cuando creamos un objeto, lo que estamos haciendo es crear una instancia única de una clase, con sus propios valores de atributos y estado.\n",
    "\n",
    "En Python, la instanciación de objetos se realiza utilizando la sintaxis de llamada a funciones. Cuando se crea un objeto, se llama al constructor `init` de la clase, que se encarga de inicializar los atributos de la instancia con los valores que se le pasan como argumentos.\n",
    "\n",
    "Para crear un objeto en Python, se utiliza la sintaxis de llamada a funciones y se asigna el resultado a una variable. Por ejemplo, si tenemos una clase `Coche`, podemos crear un objeto de la siguiente manera:"
   ]
  },
  {
   "cell_type": "raw",
   "id": "65a0a707",
   "metadata": {},
   "source": [
    "mi_coche = Coche(\"rojo\", \"Ford\", 0)"
   ]
  },
  {
   "cell_type": "markdown",
   "id": "4d0dd41e",
   "metadata": {},
   "source": [
    "En este ejemplo, se crea un objeto de la clase `Coche` con un color rojo, modelo Ford y kilometraje cero. La variable `mi_coche` es una instancia única de la clase `Coche` con sus propios valores de atributos.\n",
    "\n",
    "De manera similar, si tenemos una clase `Persona`, podemos crear un objeto de la siguiente manera:"
   ]
  },
  {
   "cell_type": "raw",
   "id": "245abe6e",
   "metadata": {},
   "source": [
    "mi_persona = Persona(\"Juan\", 25, \"Calle 10\")"
   ]
  },
  {
   "cell_type": "markdown",
   "id": "daf4a542",
   "metadata": {},
   "source": [
    "En este ejemplo, se crea un objeto de la clase `Persona` con un nombre \"Juan\", edad 25 y dirección \"Calle 10\". La variable `mi_persona` es una instancia única de la clase `Persona` con sus propios valores de atributos.\n",
    "\n",
    "### Ejemplos con las clases Coche y Persona\n",
    "Aquí te presento ejemplos de instanciación de objetos utilizando las clases `Coche` y `Persona` que creamos antes:\n",
    "\n",
    "#### Instanciación de objetos de la clase Coche"
   ]
  },
  {
   "cell_type": "code",
   "execution_count": null,
   "id": "00950aa7",
   "metadata": {
    "ExecuteTime": {
     "end_time": "2023-09-06T22:16:36.478431Z",
     "start_time": "2023-09-06T22:16:36.455288Z"
    }
   },
   "outputs": [],
   "source": [
    "coche1 = Coche(\"azul\", \"Toyota\", 10000)\n",
    "coche2 = Coche(\"blanco\", \"Nissan\", 5000)\n",
    "\n",
    "print(coche1.color, coche1.modelo, coche1.kilometraje)\n",
    "# Salida: \"azul Toyota 10000\"\n",
    "\n",
    "print(coche2.color, coche2.modelo, coche2.kilometraje)\n",
    "# Salida: \"blanco Nissan 5000\""
   ]
  },
  {
   "cell_type": "markdown",
   "id": "32bfac94",
   "metadata": {},
   "source": [
    "En este ejemplo, se crean dos objetos de la clase `Coche` con diferentes valores de atributos. Luego, se imprimen los valores de los atributos de cada objeto utilizando la sintaxis de punto.\n",
    "\n",
    "#### Instanciación de objetos de la clase Persona"
   ]
  },
  {
   "cell_type": "code",
   "execution_count": null,
   "id": "00fa63a8",
   "metadata": {
    "ExecuteTime": {
     "end_time": "2023-09-06T22:17:48.991621Z",
     "start_time": "2023-09-06T22:17:48.975616Z"
    }
   },
   "outputs": [],
   "source": [
    "persona1 = Persona(\"Ana\", 30, \"Calle 20\")\n",
    "persona2 = Persona(\"Pedro\", 15, \"Calle 30\")\n",
    "\n",
    "print(persona1.nombre, persona1.edad, persona1.direccion)\n",
    "# Salida: \"Ana 30 Calle 20\"\n",
    "\n",
    "print(persona2.nombre, persona2.edad, persona2.direccion)\n",
    "# Salida: \"Pedro 15 Calle 30\""
   ]
  },
  {
   "cell_type": "markdown",
   "id": "4ed1ead9",
   "metadata": {},
   "source": [
    "En este ejemplo, se crean dos objetos de la clase `Persona` con diferentes valores de atributos. Luego, se imprimen los valores de los atributos de cada objeto utilizando la sintaxis de punto."
   ]
  },
  {
   "cell_type": "markdown",
   "id": "c78a44e4",
   "metadata": {},
   "source": [
    "## Constructores y destructores\n",
    "\n",
    "### Constructores en Python\n",
    "El constructor es un método especial que se utiliza para inicializar los atributos de un objeto cuando se crea una instancia de la clase. En Python, el constructor se define utilizando el método especial `init`, que se llama automáticamente cuando se crea una instancia de la clase.\n",
    "\n",
    "En el constructor, se definen los atributos de la clase utilizando la sintaxis `self.atributo = valor`. El parámetro `self` se utiliza para hacer referencia al objeto actual.\n",
    "\n",
    "Aquí te presento un ejemplo de constructor en Python:"
   ]
  },
  {
   "cell_type": "code",
   "execution_count": null,
   "id": "2c9b2e3a",
   "metadata": {
    "ExecuteTime": {
     "end_time": "2023-09-06T22:20:44.649669Z",
     "start_time": "2023-09-06T22:20:44.633436Z"
    }
   },
   "outputs": [],
   "source": [
    "class Persona:\n",
    "    def __init__(self, nombre, edad):\n",
    "        self.nombre = nombre\n",
    "        self.edad = edad\n",
    "        \n",
    "    def saludar(self):\n",
    "        print(\"Hola, me llamo\", self.nombre, \"y tengo\",\n",
    "              self.edad, \"años.\")\n",
    "\n",
    "mi_persona = Persona(\"Juan\", 25)\n",
    "mi_persona.saludar()  # Salida: \"Hola, me llamo Juan y tengo 25 años.\""
   ]
  },
  {
   "cell_type": "code",
   "execution_count": null,
   "id": "a1e565c3",
   "metadata": {},
   "outputs": [],
   "source": [
    "persona2 = Persona(\"Miguel\",34)\n",
    "persona2.saludar()"
   ]
  },
  {
   "cell_type": "markdown",
   "id": "42686a52",
   "metadata": {},
   "source": [
    "En este ejemplo, se define la clase `Persona` con atributos de `nombre` y `edad`, y un método de `saludar`. El constructor se define utilizando el método especial `init`, con parámetros de `nombre` y `edad`. En el constructor, se definen los atributos de la clase utilizando la sintaxis `self.nombre = nombre` y `self.edad = edad`. Se crea un objeto `mi_persona` con valores de atributos iniciales, y se llama al método `saludar` para imprimir un mensaje de saludo.\n",
    "\n",
    "### Ventajas de utilizar __init__()\n",
    "La función `__init__()` es una manera conveniente y eficiente de inicializar los atributos de una clase. Al utilizar esta función, se pueden asignar valores a los atributos de una instancia de la clase durante la creación de la instancia, lo que facilita la programación.\n",
    "\n",
    "Además, la función `__init__()` es parte de la sintaxis de Python para la programación orientada a objetos, lo que hace que el código sea más fácil de leer y entender para otros programadores que estén familiarizados con Python."
   ]
  },
  {
   "cell_type": "markdown",
   "id": "7906e67b",
   "metadata": {},
   "source": [
    "### Destructores en Python\n",
    "El destructor es un método especial que se utiliza para liberar los recursos asociados con un objeto cuando se destruye la instancia de la clase. En Python, el destructor se define utilizando el método especial `del`.\n",
    "\n",
    "Aquí te presento un ejemplo de destructor en Python:"
   ]
  },
  {
   "cell_type": "code",
   "execution_count": null,
   "id": "bfe09288",
   "metadata": {
    "ExecuteTime": {
     "end_time": "2023-09-06T22:22:37.173301Z",
     "start_time": "2023-09-06T22:22:37.157220Z"
    }
   },
   "outputs": [],
   "source": [
    "class Persona:\n",
    "    def __init__(self, nombre):\n",
    "        self.nombre = nombre\n",
    "        \n",
    "    def __del__(self):\n",
    "        print(\"El objeto\", self.nombre, \"ha sido destruido.\")\n",
    "\n",
    "mi_persona = Persona(\"Juan\")\n",
    "del mi_persona  # Salida: \"El objeto Juan ha sido destruido.\""
   ]
  },
  {
   "cell_type": "markdown",
   "id": "afc9e0af",
   "metadata": {},
   "source": [
    "En este ejemplo, se define la clase `Persona` con un atributo de `nombre`, y un destructor utilizando el método especial `del`. El destructor se llama automáticamente cuando se elimina la instancia de la clase utilizando la función `del`. Al eliminar la instancia `mi_persona`, se llama al destructor y se imprime un mensaje de que el objeto ha sido destruido."
   ]
  },
  {
   "cell_type": "markdown",
   "id": "1f6d9584",
   "metadata": {},
   "source": [
    "## Atributos y métodos de una clase\n",
    "Los atributos y métodos de una clase en Python definen las características y el comportamiento de un objeto. Los atributos son variables que almacenan información sobre el objeto, mientras que los métodos son funciones que realizan operaciones sobre el objeto. Los atributos se definen dentro del constructor `init` y se acceden utilizando la sintaxis de punto. Los métodos se definen como funciones dentro de la clase y se acceden utilizando la sintaxis de punto después del nombre del objeto.\n",
    "\n",
    "### Atributos y métodos de la clase Rectángulo"
   ]
  },
  {
   "cell_type": "code",
   "execution_count": null,
   "id": "cab8e3c7",
   "metadata": {
    "ExecuteTime": {
     "end_time": "2023-09-06T22:25:22.048533Z",
     "start_time": "2023-09-06T22:25:22.031939Z"
    }
   },
   "outputs": [],
   "source": [
    "class Rectangulo:\n",
    "    def __init__(self, base, altura):\n",
    "        self.base = base\n",
    "        self.altura = altura\n",
    "        \n",
    "    def area(self):\n",
    "        return self.base * self.altura\n",
    "        \n",
    "    def perimetro(self):\n",
    "        return 2 * (self.base + self.altura)\n",
    "\n",
    "mi_rectangulo = Rectangulo(5, 10)\n",
    "print(mi_rectangulo.base)  # Salida: 5\n",
    "\n",
    "print(mi_rectangulo.area())  # Salida: 50\n",
    "\n",
    "print(mi_rectangulo.perimetro())  # Salida: 30"
   ]
  },
  {
   "cell_type": "markdown",
   "id": "ec7addee",
   "metadata": {},
   "source": [
    "En este ejemplo, se define la clase `Rectangulo` con atributos de `base` y `altura`, y métodos de `area` y `perimetro`. Se crea un objeto `mi_rectangulo` con valores de atributos iniciales y se imprimen los valores de los atributos `base` utilizando la sintaxis de punto. Luego, se llaman a los métodos `area` y `perimetro` para calcular la superficie y el perímetro del rectángulo, respectivamente, y se imprimen los valores utilizando la sintaxis de punto."
   ]
  },
  {
   "cell_type": "markdown",
   "id": "6bb871b6",
   "metadata": {},
   "source": [
    "### Atributos de clase\n",
    "Los atributos de clase son variables que se definen dentro de la clase y son compartidos por todas las instancias de la clase. Es decir, todos los objetos de la clase tienen acceso al mismo valor del atributo de clase.\n",
    "\n",
    "Los atributos de clase se definen fuera de los métodos de la clase, pero dentro de la clase, y se acceden utilizando la sintaxis de punto después del nombre de la clase.\n",
    "\n",
    "Aquí te presento un ejemplo de atributo de clase:"
   ]
  },
  {
   "cell_type": "code",
   "execution_count": null,
   "id": "0ed6dff1",
   "metadata": {
    "ExecuteTime": {
     "end_time": "2023-09-06T22:28:35.617883Z",
     "start_time": "2023-09-06T22:28:35.606367Z"
    }
   },
   "outputs": [],
   "source": [
    "class Coche:\n",
    "    marca = \"Toyota\"\n",
    "    modelo = \"Corolla\"\n",
    "    cantidad = 0\n",
    "    \n",
    "    def __init__(self, color):\n",
    "        self.color = color\n",
    "        Coche.cantidad += 1"
   ]
  },
  {
   "cell_type": "markdown",
   "id": "8acc7566",
   "metadata": {},
   "source": [
    "En este ejemplo, se define la clase `Coche` con tres atributos: `marca`, `modelo` y `cantidad`. Los atributos `marca` y `modelo` son atributos de clase, mientras que `cantidad` se utiliza para realizar un seguimiento de la cantidad de objetos de la clase `Coche` que se han creado.\n",
    "\n",
    "Los atributos de clase se acceden utilizando la sintaxis de punto después del nombre de la clase. Por ejemplo:"
   ]
  },
  {
   "cell_type": "code",
   "execution_count": null,
   "id": "eba54bee",
   "metadata": {
    "ExecuteTime": {
     "end_time": "2023-09-06T22:28:56.151249Z",
     "start_time": "2023-09-06T22:28:56.143239Z"
    }
   },
   "outputs": [],
   "source": [
    "print(Coche.marca)  # Salida: \"Toyota\"\n",
    "print(Coche.cantidad)"
   ]
  },
  {
   "cell_type": "code",
   "execution_count": null,
   "id": "68850cca",
   "metadata": {},
   "outputs": [],
   "source": [
    "Coche.color"
   ]
  },
  {
   "cell_type": "code",
   "execution_count": null,
   "id": "55d660e8",
   "metadata": {
    "ExecuteTime": {
     "end_time": "2023-09-06T22:29:56.078095Z",
     "start_time": "2023-09-06T22:29:56.069380Z"
    }
   },
   "outputs": [],
   "source": [
    "mi_coche=Coche('negro')\n",
    "mi_coche.cantidad"
   ]
  },
  {
   "cell_type": "code",
   "execution_count": null,
   "id": "0d7cb259",
   "metadata": {
    "ExecuteTime": {
     "end_time": "2023-09-06T22:30:07.129093Z",
     "start_time": "2023-09-06T22:30:07.113062Z"
    }
   },
   "outputs": [],
   "source": [
    "Coche.cantidad"
   ]
  },
  {
   "cell_type": "code",
   "execution_count": null,
   "id": "d549a99b",
   "metadata": {
    "ExecuteTime": {
     "end_time": "2023-09-06T22:30:50.256206Z",
     "start_time": "2023-09-06T22:30:50.244170Z"
    }
   },
   "outputs": [],
   "source": [
    "mi_coche2=Coche('azul')\n",
    "mi_coche2.cantidad"
   ]
  },
  {
   "cell_type": "code",
   "execution_count": null,
   "id": "05de541c",
   "metadata": {
    "ExecuteTime": {
     "end_time": "2023-09-06T22:30:52.914816Z",
     "start_time": "2023-09-06T22:30:52.898434Z"
    }
   },
   "outputs": [],
   "source": [
    "Coche.cantidad"
   ]
  },
  {
   "cell_type": "code",
   "execution_count": null,
   "id": "c22b8d97",
   "metadata": {
    "ExecuteTime": {
     "end_time": "2023-09-06T22:31:37.352138Z",
     "start_time": "2023-09-06T22:31:36.753831Z"
    }
   },
   "outputs": [],
   "source": [
    "mi_coche2.color"
   ]
  },
  {
   "cell_type": "markdown",
   "id": "e13a9781",
   "metadata": {},
   "source": [
    "### Atributos de objeto\n",
    "Los atributos de objeto son variables que se definen dentro de un objeto de la clase y son específicos de ese objeto. Es decir, cada objeto tiene su propio valor para los atributos de objeto.\n",
    "\n",
    "Los atributos de objeto se definen dentro del constructor de la clase utilizando el parámetro `self`, y se acceden utilizando la sintaxis de punto después del nombre del objeto.\n",
    "\n",
    "Aquí te presento un ejemplo de atributo de objeto:"
   ]
  },
  {
   "cell_type": "code",
   "execution_count": null,
   "id": "c177908f",
   "metadata": {
    "ExecuteTime": {
     "end_time": "2023-09-06T22:32:25.175524Z",
     "start_time": "2023-09-06T22:32:25.166439Z"
    }
   },
   "outputs": [],
   "source": [
    "class Persona:\n",
    "    def __init__(self, nombre, edad):\n",
    "        self.nombre = nombre\n",
    "        self.edad = edad"
   ]
  },
  {
   "cell_type": "markdown",
   "id": "5fffd44f",
   "metadata": {},
   "source": [
    "En este ejemplo, se define la clase `Persona` con dos atributos de objeto: `nombre` y `edad`. Los atributos de objeto se definen dentro del constructor de la clase utilizando el parámetro `self`.\n",
    "\n",
    "Los atributos de objeto se acceden utilizando la sintaxis de punto después del nombre del objeto. Por ejemplo:"
   ]
  },
  {
   "cell_type": "code",
   "execution_count": null,
   "id": "1a473845",
   "metadata": {
    "ExecuteTime": {
     "end_time": "2023-09-06T22:32:27.997312Z",
     "start_time": "2023-09-06T22:32:27.986351Z"
    }
   },
   "outputs": [],
   "source": [
    "juan = Persona(\"Juan\", 25)\n",
    "print(juan.nombre)  # Salida: \"Juan\""
   ]
  },
  {
   "cell_type": "markdown",
   "id": "deaafbe1",
   "metadata": {},
   "source": [
    "### Diferencias entre atributos de clase y atributos de objeto\n",
    "La principal diferencia entre los atributos de clase y los atributos de objeto es que los atributos de clase son compartidos por todas las instancias de la clase, mientras que los atributos de objeto son específicos de cada objeto.\n",
    "\n",
    "Los atributos de clase se definen fuera de los métodos de la clase, pero dentro de la clase, mientras que los atributos de objeto se definen dentro del constructor de la clase utilizando el parámetro `self`.\n",
    "\n",
    "Los atributos de clase se acceden utilizando la sintaxis de punto después del nombre de la clase, mientras que los atributos de objeto se acceden utilizando la sintaxis de punto después del nombre del objeto."
   ]
  },
  {
   "cell_type": "markdown",
   "id": "324ee9ed",
   "metadata": {},
   "source": [
    "## Encapsulamiento de datos\n",
    "El encapsulamiento de datos es una técnica de programación que consiste en ocultar los detalles de implementación de una clase, y exponer solo los métodos públicos para interactuar con los datos. En otras palabras, el encapsulamiento de datos protege los datos de una clase de modificaciones externas no autorizadas.\n",
    "\n",
    "En Python, el encapsulamiento de datos se logra mediante el uso de los modificadores de acceso \"public\", \"protected\" y \"private\". Estos modificadores se utilizan para especificar el nivel de acceso a los atributos y métodos de una clase.\n",
    "\n",
    "* Los atributos y métodos públicos son accesibles desde cualquier lugar del programa, utilizando la sintaxis de punto después del nombre del objeto.\n",
    "\n",
    "* Los atributos y métodos protegidos son accesibles solo desde la clase y sus subclases, utilizando la sintaxis de punto después del nombre del objeto, y el atributo o método debe estar precedido por un guión bajo (\"_\").\n",
    "\n",
    "* Los atributos y métodos privados son accesibles solo desde la clase, utilizando la sintaxis de punto después del nombre del objeto, y el atributo o método debe estar precedido por dos guiones bajos (\"__\").\n",
    "\n",
    "### Ejemplo de encapsulamiento de datos en Python\n",
    "Aquí te presento un ejemplo de encapsulamiento de datos en Python:"
   ]
  },
  {
   "cell_type": "code",
   "execution_count": null,
   "id": "57703004",
   "metadata": {
    "ExecuteTime": {
     "end_time": "2023-09-06T23:02:41.940140Z",
     "start_time": "2023-09-06T23:02:41.924124Z"
    }
   },
   "outputs": [],
   "source": [
    "class CuentaBancaria:\n",
    "    def __init__(self, titular, saldo):\n",
    "        self.__titular = titular\n",
    "        self.__saldo = saldo\n",
    "        \n",
    "    def depositar(self, monto):\n",
    "        self.__saldo += monto\n",
    "        \n",
    "    def retirar(self, monto):\n",
    "        if self.__saldo >= monto:\n",
    "            self.__saldo -= monto\n",
    "        else:\n",
    "            print(\"Fondos insuficientes.\")\n",
    "            \n",
    "    def get_saldo(self):\n",
    "        return self.__saldo\n",
    "\n",
    "mi_cuenta = CuentaBancaria(\"Juan\", 1000)\n",
    "print(mi_cuenta.get_saldo())  # Salida: 1000\n",
    "\n",
    "mi_cuenta.depositar(500)\n",
    "print(mi_cuenta.get_saldo())  # Salida: 1500\n",
    "\n",
    "mi_cuenta.retirar(2000)  # Salida: \"Fondos insuficientes.\""
   ]
  },
  {
   "cell_type": "code",
   "execution_count": null,
   "id": "cf4af807",
   "metadata": {},
   "outputs": [],
   "source": [
    "mi_cuenta.__saldo=3000000000"
   ]
  },
  {
   "cell_type": "code",
   "execution_count": null,
   "id": "376f2c09",
   "metadata": {
    "ExecuteTime": {
     "end_time": "2023-09-06T23:05:51.015477Z",
     "start_time": "2023-09-06T23:05:50.991446Z"
    }
   },
   "outputs": [],
   "source": [
    "mi_cuenta.__saldo"
   ]
  },
  {
   "cell_type": "code",
   "execution_count": null,
   "id": "6c8cf41a",
   "metadata": {
    "ExecuteTime": {
     "end_time": "2023-09-06T23:06:47.758147Z",
     "start_time": "2023-09-06T23:06:47.742136Z"
    }
   },
   "outputs": [],
   "source": [
    "mi_cuenta.get_saldo()"
   ]
  },
  {
   "cell_type": "markdown",
   "id": "1808bd0b",
   "metadata": {},
   "source": [
    "En este ejemplo, se define la clase `CuentaBancaria` con atributos de `titular` y `saldo`, y métodos de `depositar`, `retirar` y `get_saldo`. Los atributos `titular` y `saldo` se definen como privados utilizando dos guiones bajos (`__`), lo que significa que solo son accesibles desde la clase `CuentaBancaria`. Los métodos `depositar`, `retirar` y `get_saldo` se definen como públicos, lo que significa que son accesibles desde cualquier lugar del programa.\n",
    "\n",
    "En el método `retirar`, se utiliza una verificación para asegurarse de que el saldo es suficiente antes de permitir un retiro. Si el saldo es suficiente, se deduce el monto del saldo. Si no, se emite un mensaje de \"Fondos insuficientes\".\n",
    "\n",
    "### Ejemplo de encapsulamiento en Python utilizando una clase \"Producto\" de una tienda en línea\n",
    "\n",
    "En este ejemplo, vamos a encapsular la información relacionada con el producto, como su nombre, descripción y precio, y solo permitiremos el acceso a estas propiedades a través de métodos específicos."
   ]
  },
  {
   "cell_type": "code",
   "execution_count": null,
   "id": "6ac1b36a",
   "metadata": {
    "ExecuteTime": {
     "end_time": "2023-09-06T23:08:53.788441Z",
     "start_time": "2023-09-06T23:08:53.780430Z"
    }
   },
   "outputs": [],
   "source": [
    "class Producto:\n",
    "    def __init__(self, nombre, descripcion, precio):\n",
    "        self.__nombre = nombre\n",
    "        self.__descripcion = descripcion\n",
    "        self.__precio = precio\n",
    "        \n",
    "    def obtener_nombre(self):\n",
    "        return self.__nombre\n",
    "    \n",
    "    def obtener_descripcion(self):\n",
    "        return self.__descripcion\n",
    "    \n",
    "    def obtener_precio(self):\n",
    "        return self.__precio\n",
    "    \n",
    "    def establecer_precio(self, precio):\n",
    "        self.__precio = precio"
   ]
  },
  {
   "cell_type": "markdown",
   "id": "e5279491",
   "metadata": {},
   "source": [
    "En este ejemplo, la clase `Producto` tiene tres atributos de instancia `__nombre`, `__descripcion` y `__precio`, que son privados y no se pueden acceder desde fuera de la clase. Para acceder al nombre, descripción y precio del producto desde fuera de la clase, hemos definido tres métodos públicos: `obtener_nombre`, `obtener_descripcion` y `obtener_precio`. Los métodos `obtener_nombre` y `obtener_descripcion` devuelven el nombre y la descripción del producto, respectivamente, mientras que el método `obtener_precio` devuelve el precio actual.\n",
    "\n",
    "También hemos definido un método público adicional, `establecer_precio`, que permite cambiar el precio del producto. El método `establecer_precio` actualiza el valor del atributo `__precio` con el valor especificado.\n",
    "\n",
    "De esta manera, encapsulamos los datos del producto y evitamos que se puedan modificar accidentalmente desde fuera de la clase. Además, al proporcionar métodos públicos específicos para acceder a los datos del producto, podemos controlar el acceso y el uso de estos datos de manera más precisa. Este ejemplo podría ser útil en una tienda en línea donde necesitamos mantener la privacidad de los detalles del producto mientras proporcionamos acceso limitado a ciertas propiedades específicas del producto a los usuarios."
   ]
  },
  {
   "cell_type": "code",
   "execution_count": null,
   "id": "6ab31dc9",
   "metadata": {
    "ExecuteTime": {
     "end_time": "2023-09-06T23:09:19.185050Z",
     "start_time": "2023-09-06T23:09:19.169065Z"
    }
   },
   "outputs": [],
   "source": [
    "# Crear un nuevo producto\n",
    "producto1 = Producto(\"Camiseta\",\n",
    "                     \"Camiseta de algodón para hombre\", 25.99)\n",
    "\n",
    "# Obtener el nombre del producto\n",
    "nombre = producto1.obtener_nombre()\n",
    "print(\"Nombre del producto:\", nombre)\n",
    "\n",
    "# Obtener la descripción del producto\n",
    "descripcion = producto1.obtener_descripcion()\n",
    "print(\"Descripción del producto:\", descripcion)\n",
    "\n",
    "# Obtener el precio del producto\n",
    "precio = producto1.obtener_precio()\n",
    "print(\"Precio del producto:\", precio)\n",
    "\n",
    "# Cambiar el precio del producto\n",
    "producto1.establecer_precio(29.99)\n",
    "precio_actualizado = producto1.obtener_precio()\n",
    "print(\"Nuevo precio del producto:\", precio_actualizado)"
   ]
  },
  {
   "cell_type": "markdown",
   "id": "47f632b9",
   "metadata": {},
   "source": [
    "En este ejemplo, creamos una nueva instancia de la clase `Producto` con el nombre \"Camiseta\", la descripción \"Camiseta de algodón para hombre\" y el precio \"25.99\". Luego, utilizamos los métodos públicos de la clase `Producto` para obtener y cambiar el nombre, descripción y precio del producto.\n",
    "\n",
    "Primero, utilizamos el método `obtener_nombre` para obtener el nombre del producto y lo imprimimos en la consola. Luego, utilizamos el método `obtener_descripcion` para obtener la descripción del producto y lo imprimimos en la consola. Finalmente, utilizamos el método `obtener_precio` para obtener el precio del producto y lo imprimimos en la consola.\n",
    "\n",
    "Después, utilizamos el método `establecer_precio` para cambiar el precio del producto a \"29.99\" y utilizamos el método `obtener_precio` para obtener el nuevo precio del producto y lo imprimimos en la consola.\n",
    "\n",
    "Este ejemplo muestra cómo podemos utilizar la clase `Producto` para manejar la información relacionada con los productos en una tienda en línea, y cómo podemos utilizar los métodos públicos de la clase para acceder y cambiar los datos de un producto específico de manera controlada y segura."
   ]
  },
  {
   "cell_type": "markdown",
   "id": "128f9165",
   "metadata": {},
   "source": [
    "# 📌 Descripción de la Tarea\n",
    "\n",
    "Tu tarea consiste en desarrollar un **sistema de gestión de préstamos de libros en una biblioteca** utilizando clases y objetos en Python. Deberás modelar la relación entre **libros, usuarios y la biblioteca**, asegurando que se puedan solicitar libros en préstamo y devolverlos correctamente.\n",
    "\n",
    "El sistema debe incluir las siguientes funcionalidades:\n",
    "\n",
    "- 📚 **Agregar libros** a la biblioteca con un número determinado de copias.\n",
    "- 🔄 **Permitir a los usuarios obtener libros en préstamo**, verificando que haya copias disponibles.\n",
    "- 🏷️ **Permitir a los usuarios devolver los libros** que han tomado en préstamo.\n",
    "- 📊 **Llevar un registro de cuántos libros han sido prestados y cuáles son los más solicitados.**\n",
    "- 🔎 **Facilitar la búsqueda de libros** en la biblioteca por su título.\n",
    "- 📈 **Mostrar los libros más solicitados en préstamo.**\n",
    "\n",
    "Debes diseñar un código que simule el funcionamiento de la biblioteca con **varios libros y usuarios**, asegurando que el comportamiento del sistema sea el esperado.\n",
    "\n",
    "---\n",
    "\n",
    "# 📌 Requisitos Técnicos\n",
    "\n",
    "## 📍 Clases a implementar\n",
    "\n",
    "### 1️⃣ Clase `Libro`\n",
    "Representa la información de un libro en la biblioteca.\n",
    "\n",
    "#### **Atributos:**\n",
    "- `titulo` (str): Nombre del libro.\n",
    "- `autor` (str): Nombre del autor.\n",
    "- `publicacion` (int): Año de publicación.\n",
    "- `paginas` (int): Número de páginas.\n",
    "\n",
    "#### **Métodos:**\n",
    "- `obtener_titulo()`: Retorna el título del libro.\n",
    "- `obtener_autor()`: Retorna el autor del libro.\n",
    "- `obtener_publicacion()`: Retorna el año de publicación.\n",
    "- `obtener_paginas()`: Retorna el número de páginas.\n",
    "\n",
    "---\n",
    "\n",
    "### 2️⃣ Clase `Usuario`\n",
    "Representa a un usuario que puede solicitar y devolver libros en préstamo.\n",
    "\n",
    "#### **Atributos:**\n",
    "- `nombre` (str): Nombre del usuario.\n",
    "- `libros_prestados` (list): Lista de títulos de libros que el usuario ha obtenido en préstamo.\n",
    "\n",
    "#### **Métodos:**\n",
    "- `obtener_libro_prestado(biblioteca, titulo)`:\n",
    "  - 🔹 Solicita un libro en préstamo de la biblioteca.\n",
    "  - ✅ Si hay copias disponibles, se registra el préstamo.\n",
    "  - ❌ Si no hay copias disponibles, se muestra un mensaje de error.\n",
    "\n",
    "- `regresar_libro_prestado(biblioteca, titulo)`:\n",
    "  - 🔹 Devuelve un libro en préstamo a la biblioteca.\n",
    "  - ❌ Solo puede devolver libros que haya tomado en préstamo.\n",
    "\n",
    "---\n",
    "\n",
    "### 3️⃣ Clase `Biblioteca`\n",
    "Gestiona los libros disponibles y el registro de préstamos.\n",
    "\n",
    "#### **Atributos:**\n",
    "- `catalogo` (dict):\n",
    "  - 📖 Diccionario donde las claves son títulos de libros y los valores son diccionarios con:\n",
    "    - `\"info\"`: Objeto `Libro` con la información del libro.\n",
    "    - `\"copias\"`: Número de copias disponibles.\n",
    "    - `\"prestados\"`: Número de veces que el libro ha sido solicitado en préstamo.\n",
    "\n",
    "#### **Métodos:**\n",
    "- `agregar_libro(libro, cantidad)`:\n",
    "  - 📚 Agrega un libro al catálogo con una cantidad inicial de copias.\n",
    "\n",
    "- `prestar_libro(titulo)`:\n",
    "  - 🔻 Reduce en 1 la cantidad de copias disponibles de un libro.\n",
    "  - 📊 Aumenta en 1 el contador de veces prestado.\n",
    "\n",
    "- `devolver_libro(titulo)`:\n",
    "  - 🔺 Aumenta en 1 la cantidad de copias disponibles de un libro.\n",
    "  - 📉 Disminuye en 1 el contador de veces prestado (si fue solicitado previamente).\n",
    "\n",
    "- `mostrar_libros_populares()`:\n",
    "  - 📈 Muestra los **10 libros más solicitados en préstamo** en orden descendente.\n",
    "\n",
    "- `buscar_libro(titulo)`:\n",
    "  - 🔎 Muestra la información del libro (autor, año, páginas y copias disponibles).\n",
    "  - ❌ Si el libro no está en la biblioteca, muestra un mensaje de error.\n",
    "\n",
    "---\n",
    "\n",
    "# 📌 Requisitos de Implementación\n",
    "\n",
    "### 📍 Uso de Clases y Objetos:\n",
    "✅ Debes utilizar los principios de **Programación Orientada a Objetos (POO)**.  \n",
    "❌ No está permitido resolver la tarea con estructuras de datos sueltas como listas o diccionarios sin clases.\n",
    "\n",
    "### 📍 Encapsulamiento:\n",
    "✅ Los atributos de `Libro` deben ser **privados** (`self._titulo`, `self._autor`, etc.).  \n",
    "✅ Se debe acceder a ellos solo a través de métodos `obtener_*`.\n",
    "\n",
    "### 📍 Estructura del Código:\n",
    "✅ Organiza el código en una estructura lógica con clases y métodos bien definidos.  \n",
    "✅ Agrega **comentarios** para mejorar la comprensión.\n",
    "\n",
    "---\n",
    "\n",
    "# 📌 Prueba de Uso\n",
    "\n",
    "Después de implementar las clases, debes probar tu código con una **simulación que incluya**:\n",
    "\n",
    "✅ **Agregar varios libros** a la biblioteca con diferentes cantidades de copias.  \n",
    "✅ **Registrar varios usuarios** y hacer que obtengan libros en préstamo.  \n",
    "✅ **Intentar obtener un libro sin copias disponibles** (debe mostrar un mensaje de error).  \n",
    "✅ **Devolver algunos libros** y verificar que la biblioteca los reciba correctamente.  \n",
    "✅ **Mostrar los libros más solicitados en préstamo.**  \n",
    "✅ **Buscar un libro específico y mostrar su información.**  \n",
    "\n",
    "---\n",
    "\n",
    "# 📌 Ejemplo de uso esperado (sin inputs):\n",
    "\n",
    "```python\n",
    "# Crear biblioteca\n",
    "biblioteca = Biblioteca()\n",
    "\n",
    "# Agregar libros\n",
    "biblioteca.agregar_libro(Libro(\"Cien años de soledad\", \"Gabriel García Márquez\", 1967, 417), 5)\n",
    "biblioteca.agregar_libro(Libro(\"El señor de los anillos\", \"J.R.R. Tolkien\", 1954, 1178), 3)\n",
    "\n",
    "# Crear usuarios\n",
    "usuario1 = Usuario(\"Carlos\")\n",
    "usuario2 = Usuario(\"Ana\")\n",
    "\n",
    "# Obtener libros en préstamo\n",
    "usuario1.obtener_libro_prestado(biblioteca, \"Cien años de soledad\")\n",
    "usuario2.obtener_libro_prestado(biblioteca, \"El señor de los anillos\")\n",
    "\n",
    "# Intentar obtener un libro sin copias disponibles\n",
    "usuario2.obtener_libro_prestado(biblioteca, \"Don Quijote de la Mancha\")  # No existe aún\n",
    "\n",
    "# Regresar un libro en préstamo\n",
    "usuario1.regresar_libro_prestado(biblioteca, \"Cien años de soledad\")\n",
    "\n",
    "# Mostrar los libros más solicitados en préstamo\n",
    "biblioteca.mostrar_libros_populares()\n",
    "\n",
    "# Buscar un libro\n",
    "biblioteca.buscar_libro(\"El señor de los anillos\")\n",
    "```\n",
    "\n",
    "🚀 ¡Ahora es tu turno! Desarrolla este sistema en Python y demuestra tu dominio de la Programación Orientada a Objetos. 🎯"
   ]
  },
  {
   "cell_type": "code",
   "execution_count": null,
   "id": "0c85ebba",
   "metadata": {},
   "outputs": [],
   "source": []
  }
 ],
 "metadata": {
  "kernelspec": {
   "display_name": "base",
   "language": "python",
   "name": "python3"
  },
  "language_info": {
   "codemirror_mode": {
    "name": "ipython",
    "version": 3
   },
   "file_extension": ".py",
   "mimetype": "text/x-python",
   "name": "python",
   "nbconvert_exporter": "python",
   "pygments_lexer": "ipython3",
   "version": "3.10.13"
  },
  "varInspector": {
   "cols": {
    "lenName": 16,
    "lenType": 16,
    "lenVar": 40
   },
   "kernels_config": {
    "python": {
     "delete_cmd_postfix": "",
     "delete_cmd_prefix": "del ",
     "library": "var_list.py",
     "varRefreshCmd": "print(var_dic_list())"
    },
    "r": {
     "delete_cmd_postfix": ") ",
     "delete_cmd_prefix": "rm(",
     "library": "var_list.r",
     "varRefreshCmd": "cat(var_dic_list()) "
    }
   },
   "types_to_exclude": [
    "module",
    "function",
    "builtin_function_or_method",
    "instance",
    "_Feature"
   ],
   "window_display": false
  }
 },
 "nbformat": 4,
 "nbformat_minor": 5
}
