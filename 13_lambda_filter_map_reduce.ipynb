{
 "cells": [
  {
   "cell_type": "code",
   "execution_count": null,
   "id": "38a1a9ea",
   "metadata": {
    "ExecuteTime": {
     "end_time": "2023-06-05T22:54:42.148350Z",
     "start_time": "2023-06-05T22:54:42.124633Z"
    }
   },
   "outputs": [],
   "source": [
    "import warnings\n",
    "from IPython.display import display, HTML\n",
    "warnings.filterwarnings('ignore')\n",
    "display(HTML(\"<style>.container { width:100% !important; }</style>\"))"
   ]
  },
  {
   "cell_type": "markdown",
   "id": "dd6ef99f",
   "metadata": {},
   "source": [
    "# Funciones Lambda en Python\n",
    "\n",
    "En Python, una función lambda es una función anónima que se define en una sola línea de código y se utiliza para realizar operaciones simples en una sola expresión. Las funciones lambda son útiles cuando necesitas una función rápida para realizar una tarea específica, como una función de ordenamiento.\n",
    "\n",
    "La sintaxis de una función lambda es la siguiente:"
   ]
  },
  {
   "cell_type": "raw",
   "id": "31e5bce7",
   "metadata": {},
   "source": [
    "lambda arguments: expression"
   ]
  },
  {
   "cell_type": "markdown",
   "id": "a18ae3d2",
   "metadata": {},
   "source": [
    "Donde `arguments` es una lista separada por comas de los argumentos de la función, y `expression` es la expresión que se evalúa y devuelve como resultado de la función.\n",
    "\n",
    "Por ejemplo, podemos definir una función lambda que multiplique un número por dos de la siguiente manera:"
   ]
  },
  {
   "cell_type": "code",
   "execution_count": null,
   "id": "b2885d2c",
   "metadata": {
    "ExecuteTime": {
     "end_time": "2023-06-05T23:00:09.535308Z",
     "start_time": "2023-06-05T23:00:09.520287Z"
    }
   },
   "outputs": [],
   "source": [
    "multiply_by_two = lambda x: x * 2"
   ]
  },
  {
   "cell_type": "code",
   "execution_count": null,
   "id": "95bcf7f3",
   "metadata": {
    "ExecuteTime": {
     "end_time": "2023-06-05T23:00:13.959472Z",
     "start_time": "2023-06-05T23:00:13.948945Z"
    }
   },
   "outputs": [],
   "source": [
    "multiply_by_two"
   ]
  },
  {
   "cell_type": "markdown",
   "id": "211f2c33",
   "metadata": {},
   "source": [
    "Esta función lambda toma un argumento `x` y devuelve `x` multiplicado por 2. Podemos llamar a esta función lambda como lo haríamos con cualquier otra función:"
   ]
  },
  {
   "cell_type": "code",
   "execution_count": null,
   "id": "89a36638",
   "metadata": {
    "ExecuteTime": {
     "end_time": "2023-06-05T23:00:55.546428Z",
     "start_time": "2023-06-05T23:00:55.531465Z"
    }
   },
   "outputs": [],
   "source": [
    "result = multiply_by_two(5)\n",
    "print(result)"
   ]
  },
  {
   "cell_type": "markdown",
   "id": "2e328b05",
   "metadata": {},
   "source": [
    "Las funciones lambda también se pueden utilizar con funciones integradas de Python, como `map`, `filter` y `reduce`. Por ejemplo, podemos utilizar una función lambda con `map` para aplicar una función a todos los elementos de una lista:"
   ]
  },
  {
   "cell_type": "code",
   "execution_count": null,
   "id": "5df33a21",
   "metadata": {
    "ExecuteTime": {
     "end_time": "2023-06-05T23:03:07.943112Z",
     "start_time": "2023-06-05T23:03:07.935078Z"
    }
   },
   "outputs": [],
   "source": [
    "numbers = [1, 2, 3, 4, 5]\n",
    "squared_numbers = list(map(lambda x: x ** 2, numbers))\n",
    "print(squared_numbers)"
   ]
  },
  {
   "cell_type": "code",
   "execution_count": null,
   "id": "b0db3a07",
   "metadata": {
    "ExecuteTime": {
     "end_time": "2023-06-05T23:12:49.506156Z",
     "start_time": "2023-06-05T23:12:49.466139Z"
    }
   },
   "outputs": [],
   "source": [
    "numbers = [1, 2, 3, 4, 5]\n",
    "\n",
    "# escriban la version base del script de arriba\n",
    "def cuadrados(n):\n",
    "    return n**2\n",
    "\n",
    "squared_numbers=[]\n",
    "for numero in numbers:\n",
    "    squared_numbers.append(cuadrados(numero))\n",
    "    \n",
    "print(squared_numbers)"
   ]
  },
  {
   "cell_type": "code",
   "execution_count": null,
   "id": "e0d0880e",
   "metadata": {},
   "outputs": [],
   "source": [
    "numbers = [1, 2, 3, 4, 5]\n",
    "squared_numbers = list(map(cuadrados, numbers))\n",
    "print(squared_numbers)"
   ]
  },
  {
   "cell_type": "markdown",
   "id": "a23100ed",
   "metadata": {},
   "source": [
    "En este ejemplo, la función lambda toma un argumento `x` y devuelve `x` elevado al cuadrado. La función `map` aplica esta función lambda a cada elemento de la lista `numbers` y devuelve una lista de los resultados."
   ]
  },
  {
   "cell_type": "markdown",
   "id": "806389a8",
   "metadata": {},
   "source": [
    "En este ejemplo, vamos a utilizar la función `map` y funciones lambda para convertir una lista de números en una lista de números negativos.\n",
    "\n",
    "Primero, creamos una lista de números:"
   ]
  },
  {
   "cell_type": "code",
   "execution_count": null,
   "id": "107ad651",
   "metadata": {
    "ExecuteTime": {
     "end_time": "2023-06-05T23:14:25.290897Z",
     "start_time": "2023-06-05T23:14:25.276861Z"
    }
   },
   "outputs": [],
   "source": [
    "numbers = [1, 2, -3, 4, 5]\n",
    "neg_numbers = list(map(lambda x: -x, numbers))\n",
    "print(neg_numbers)"
   ]
  },
  {
   "cell_type": "markdown",
   "id": "dc25e1f4",
   "metadata": {},
   "source": [
    "En este ejemplo, la función lambda toma un argumento `x` y devuelve `x` negativo. La función `map` aplica esta función lambda a cada elemento de la lista `numbers` y devuelve una lista de los resultados.\n",
    "\n",
    "También podemos utilizar una función lambda con dos argumentos para realizar operaciones con dos listas. Por ejemplo, si tenemos dos listas de números, podemos utilizar una función lambda con dos argumentos para sumar los elementos correspondientes de ambas listas:"
   ]
  },
  {
   "cell_type": "code",
   "execution_count": null,
   "id": "eca808bb",
   "metadata": {
    "ExecuteTime": {
     "end_time": "2023-06-05T23:15:30.198945Z",
     "start_time": "2023-06-05T23:15:30.175037Z"
    }
   },
   "outputs": [],
   "source": [
    "numbers1 = [1, 2, 3, 4, 5]\n",
    "numbers2 = [6, 7, 8, 9, 10]\n",
    "sum_numbers = list(map(lambda x, y: x + y, numbers1, numbers2))\n",
    "print(sum_numbers)"
   ]
  },
  {
   "cell_type": "markdown",
   "id": "0611f380",
   "metadata": {},
   "source": [
    "En este ejemplo, la función lambda toma dos argumentos `x` e `y` y devuelve la suma de ambos. La función `map` aplica esta función lambda a cada par de elementos correspondientes de las listas `numbers1` y `numbers2` y devuelve una lista de los resultados."
   ]
  },
  {
   "cell_type": "markdown",
   "id": "16837479",
   "metadata": {},
   "source": [
    "Las funciones lambda también se pueden utilizar con la función `filter` para filtrar elementos de una lista según una condición. Por ejemplo, podemos utilizar una función lambda con `filter` para filtrar los números pares de una lista:"
   ]
  },
  {
   "cell_type": "code",
   "execution_count": null,
   "id": "9b81a223",
   "metadata": {
    "ExecuteTime": {
     "end_time": "2023-06-05T23:18:02.373269Z",
     "start_time": "2023-06-05T23:18:02.361738Z"
    }
   },
   "outputs": [],
   "source": [
    "numbers = [1, 2, 2, 3, 4, 5]\n",
    "even_numbers = list(filter(lambda x: x % 2 == 0, numbers))\n",
    "print(even_numbers)"
   ]
  },
  {
   "cell_type": "markdown",
   "id": "ff84f484",
   "metadata": {},
   "source": [
    "En este ejemplo, la función lambda toma un argumento `x` y devuelve `True` si `x` es par y `False` en caso contrario. La función `filter` aplica esta función lambda a cada elemento de la lista numbers y devuelve una lista de los elementos para los cuales la función lambda devuelve `True`.\n",
    "\n",
    "Las funciones lambda también se pueden utilizar con la función `reduce` para reducir una lista a un solo valor. Por ejemplo, podemos utilizar una función lambda con `reduce` para calcular la suma de los elementos de una lista:"
   ]
  },
  {
   "cell_type": "code",
   "execution_count": null,
   "id": "dc35637a",
   "metadata": {
    "ExecuteTime": {
     "end_time": "2023-06-05T23:18:27.720602Z",
     "start_time": "2023-06-05T23:18:27.704583Z"
    }
   },
   "outputs": [],
   "source": [
    "from functools import reduce\n",
    "\n",
    "numbers = [1, 2, 3, 4, 5]\n",
    "sum_of_numbers = reduce(lambda x, y: x + y, numbers)\n",
    "print(sum_of_numbers)"
   ]
  },
  {
   "cell_type": "markdown",
   "id": "563b2915",
   "metadata": {},
   "source": [
    "En este ejemplo, la función lambda toma dos argumentos `x` e `y` y devuelve la suma de ambos. La función `reduce` aplica esta función lambda a cada par de elementos adyacentes de la lista `numbers` hasta que se reduce la lista a un solo valor.\n",
    "\n",
    "En otro ejemplo, vamos a ver cómo utilizar la función reduce para encontrar el número más grande en una lista de números."
   ]
  },
  {
   "cell_type": "code",
   "execution_count": null,
   "id": "a7e49c9c",
   "metadata": {
    "ExecuteTime": {
     "end_time": "2023-06-05T23:20:14.377459Z",
     "start_time": "2023-06-05T23:20:14.366385Z"
    }
   },
   "outputs": [],
   "source": [
    "from functools import reduce\n",
    "numbers = [3, 7, 1, 9, 5]\n",
    "largest_number = reduce(lambda x, y: x if x > y else y, numbers)\n",
    "print(largest_number)"
   ]
  },
  {
   "cell_type": "markdown",
   "id": "557c3527",
   "metadata": {},
   "source": [
    "En este ejemplo, la función lambda toma dos argumentos `x` e `y` y devuelve el valor más grande de ambos. La función `reduce` aplica esta función lambda a cada par de elementos adyacentes de la lista `numbers` hasta que se reduce la lista a un solo valor, que es el número más grande."
   ]
  },
  {
   "cell_type": "markdown",
   "id": "87a9a96b",
   "metadata": {},
   "source": [
    "## Ejercicio\n",
    "\n",
    "El ejercicio consiste en que los alumnos desarrollen una aplicación que tome una lista de temperaturas en grados Fahrenheit como entrada y devuelva una lista de temperaturas en grados Celsius utilizando la función `map` y una función lambda.\n",
    "\n",
    "Primero, los alumnos deben crear una lista de temperaturas en grados Fahrenheit. Por ejemplo:"
   ]
  },
  {
   "cell_type": "code",
   "execution_count": null,
   "id": "fc89a78e",
   "metadata": {
    "ExecuteTime": {
     "end_time": "2023-02-24T20:33:51.626609Z",
     "start_time": "2023-02-24T20:33:51.619321Z"
    }
   },
   "outputs": [],
   "source": [
    "temperatures_f = [32, 50, 68, 86, 104]"
   ]
  },
  {
   "cell_type": "markdown",
   "id": "a67979cc",
   "metadata": {},
   "source": [
    "Luego, deben crear una función lambda que tome una temperatura en grados Fahrenheit como argumento y devuelva la temperatura correspondiente en grados Celsius:"
   ]
  },
  {
   "cell_type": "code",
   "execution_count": null,
   "id": "0e022f40",
   "metadata": {},
   "outputs": [],
   "source": [
    "temperatures_c = list(map(lambda f: (f-32)*(5/9), temperatures_f))\n",
    "print(temperatures_c)"
   ]
  }
 ],
 "metadata": {
  "kernelspec": {
   "display_name": "Python 3 (ipykernel)",
   "language": "python",
   "name": "python3"
  },
  "language_info": {
   "codemirror_mode": {
    "name": "ipython",
    "version": 3
   },
   "file_extension": ".py",
   "mimetype": "text/x-python",
   "name": "python",
   "nbconvert_exporter": "python",
   "pygments_lexer": "ipython3",
   "version": "3.10.13"
  },
  "varInspector": {
   "cols": {
    "lenName": 16,
    "lenType": 16,
    "lenVar": 40
   },
   "kernels_config": {
    "python": {
     "delete_cmd_postfix": "",
     "delete_cmd_prefix": "del ",
     "library": "var_list.py",
     "varRefreshCmd": "print(var_dic_list())"
    },
    "r": {
     "delete_cmd_postfix": ") ",
     "delete_cmd_prefix": "rm(",
     "library": "var_list.r",
     "varRefreshCmd": "cat(var_dic_list()) "
    }
   },
   "types_to_exclude": [
    "module",
    "function",
    "builtin_function_or_method",
    "instance",
    "_Feature"
   ],
   "window_display": false
  }
 },
 "nbformat": 4,
 "nbformat_minor": 5
}
