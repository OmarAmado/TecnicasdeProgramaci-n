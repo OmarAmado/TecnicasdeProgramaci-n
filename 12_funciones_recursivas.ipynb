{
 "cells": [
  {
   "cell_type": "code",
   "execution_count": null,
   "id": "125abfec",
   "metadata": {
    "ExecuteTime": {
     "end_time": "2023-06-05T22:08:03.819977Z",
     "start_time": "2023-06-05T22:08:03.777915Z"
    }
   },
   "outputs": [],
   "source": [
    "import warnings\n",
    "from IPython.display import display, HTML\n",
    "warnings.filterwarnings('ignore')\n",
    "display(HTML(\"<style>.container { width:100% !important; }</style>\"))"
   ]
  },
  {
   "cell_type": "markdown",
   "id": "4e185bb1",
   "metadata": {},
   "source": [
    "# Funciones Recursivas\n",
    "\n",
    "En programación, una función recursiva es una función que se llama a sí misma durante su ejecución. Las funciones recursivas se utilizan para resolver problemas que se pueden dividir en problemas más pequeños e idénticos. Cada problema más pequeño se resuelve mediante la recursión, hasta que el problema original se resuelve.\n",
    "\n",
    "## Estructura de una función recursiva\n",
    "\n",
    "Una función recursiva debe contener al menos dos partes principales:\n",
    "\n",
    "Un caso base: Este es el caso más simple que se puede resolver sin recursión. El caso base detiene la recursión y evita que la función entre en un bucle infinito. Si la función no tiene un caso base, la recursión se ejecutará indefinidamente.\n",
    "\n",
    "Un caso recursivo: Este es el caso en el que la función se llama a sí misma. El caso recursivo se utiliza para dividir el problema en problemas más pequeños y resolverse mediante la recursión.\n",
    "\n",
    "Veamos un ejemplo básico de una función recursiva que calcula el factorial de un número:"
   ]
  },
  {
   "cell_type": "code",
   "execution_count": 1,
   "id": "6c492b22",
   "metadata": {
    "ExecuteTime": {
     "end_time": "2023-06-05T22:14:22.487453Z",
     "start_time": "2023-06-05T22:14:22.474381Z"
    }
   },
   "outputs": [],
   "source": [
    "def factorial(n):\n",
    "    if n == 1:\n",
    "        return 1\n",
    "    else:\n",
    "        return n * factorial(n-1)\n",
    "# 5*4*3*2*1"
   ]
  },
  {
   "cell_type": "markdown",
   "id": "6f839369",
   "metadata": {},
   "source": [
    "En este ejemplo, el caso base es `n == 1`. Si `n` es igual a 1, la función devuelve 1. Si `n` no es igual a 1, la función se llama a sí misma con el argumento `n-1` y se multiplica por `n`."
   ]
  },
  {
   "cell_type": "code",
   "execution_count": null,
   "id": "0890518a",
   "metadata": {
    "ExecuteTime": {
     "end_time": "2023-06-05T22:14:25.049319Z",
     "start_time": "2023-06-05T22:14:25.034415Z"
    }
   },
   "outputs": [],
   "source": [
    "factorial(5)"
   ]
  },
  {
   "cell_type": "code",
   "execution_count": 5,
   "id": "8d8dd2c0",
   "metadata": {
    "ExecuteTime": {
     "end_time": "2023-06-05T22:19:26.353612Z",
     "start_time": "2023-06-05T22:19:26.343310Z"
    }
   },
   "outputs": [],
   "source": [
    "#escriban el caso base\n",
    "def factorial(n):\n",
    "    resultado=1\n",
    "    for i in range(1,n+1):\n",
    "        resultado*=i\n",
    "    return resultado"
   ]
  },
  {
   "cell_type": "code",
   "execution_count": null,
   "id": "9dfff4d9",
   "metadata": {
    "ExecuteTime": {
     "end_time": "2023-06-05T22:19:34.436462Z",
     "start_time": "2023-06-05T22:19:34.428439Z"
    }
   },
   "outputs": [],
   "source": [
    "factorial(5)"
   ]
  },
  {
   "cell_type": "markdown",
   "id": "ac19f6d9",
   "metadata": {},
   "source": [
    "## Ejemplo 1\n",
    "\n",
    "A continuación, un ejemplo básico de una función recursiva que suma los elementos de una lista:"
   ]
  },
  {
   "cell_type": "code",
   "execution_count": 7,
   "id": "934ecc15",
   "metadata": {
    "ExecuteTime": {
     "end_time": "2023-06-05T22:21:26.196660Z",
     "start_time": "2023-06-05T22:21:26.185999Z"
    }
   },
   "outputs": [],
   "source": [
    "def sum_list(lst):\n",
    "    if not lst:\n",
    "        return 0\n",
    "    else:\n",
    "        return lst[0] + sum_list(lst[1:])"
   ]
  },
  {
   "cell_type": "code",
   "execution_count": null,
   "id": "393386da",
   "metadata": {
    "ExecuteTime": {
     "end_time": "2023-06-05T22:21:26.994005Z",
     "start_time": "2023-06-05T22:21:26.981735Z"
    }
   },
   "outputs": [],
   "source": [
    "sum_list([34,23,67,33])"
   ]
  },
  {
   "cell_type": "markdown",
   "id": "641a6706",
   "metadata": {},
   "source": [
    "En este ejemplo, el caso base es la lista vacía. Si la lista está vacía, la función devuelve 0. Si la lista no está vacía, la función suma el primer elemento de la lista con la suma de los elementos restantes de la lista."
   ]
  },
  {
   "cell_type": "markdown",
   "id": "32f7b547",
   "metadata": {},
   "source": [
    "## Ejemplo 2\n",
    "\n",
    "A continuación, un ejemplo intermedio de una función recursiva que imprime los elementos de una lista de forma recursiva:"
   ]
  },
  {
   "cell_type": "code",
   "execution_count": 9,
   "id": "f00280ba",
   "metadata": {
    "ExecuteTime": {
     "end_time": "2023-06-05T22:22:08.568422Z",
     "start_time": "2023-06-05T22:22:08.558666Z"
    }
   },
   "outputs": [],
   "source": [
    "def print_list(lst):\n",
    "    if not lst:\n",
    "        return\n",
    "    else:\n",
    "        print(lst[0])\n",
    "        print_list(lst[1:])"
   ]
  },
  {
   "cell_type": "markdown",
   "id": "ba9045a9",
   "metadata": {},
   "source": [
    "En este ejemplo, el caso base es la lista vacía. Si la lista está vacía, la función no hace nada. Si la lista no está vacía, la función imprime el primer elemento de la lista y llama a la función nuevamente con los elementos restantes de la lista.\n",
    "\n",
    "Veamos cómo funciona esta función con la siguiente lista:"
   ]
  },
  {
   "cell_type": "code",
   "execution_count": null,
   "id": "953343b1",
   "metadata": {
    "ExecuteTime": {
     "end_time": "2023-06-05T22:22:11.199515Z",
     "start_time": "2023-06-05T22:22:11.191504Z"
    }
   },
   "outputs": [],
   "source": [
    "my_list = [1, 2, 3, 4, 5]\n",
    "print_list(my_list)"
   ]
  },
  {
   "cell_type": "markdown",
   "id": "79cbf103",
   "metadata": {},
   "source": [
    "## Ejemplo 3\n",
    "\n",
    "En este ejemplo, vamos a ver cómo utilizar la recursividad para calcular el enésimo número de la secuencia de Fibonacci.\n",
    "\n",
    "La secuencia de Fibonacci es una serie de números en la que cada número es la suma de los dos números anteriores. Los primeros dos números de la secuencia son 0 y 1.\n",
    "\n",
    "Primero, creamos una función llamada `fibonacci` que recibe un número entero n como argumento y devuelve el enésimo número de la secuencia de Fibonacci:"
   ]
  },
  {
   "cell_type": "code",
   "execution_count": 12,
   "id": "02f8b5ed",
   "metadata": {
    "ExecuteTime": {
     "end_time": "2023-06-05T22:24:23.527077Z",
     "start_time": "2023-06-05T22:24:23.515044Z"
    }
   },
   "outputs": [],
   "source": [
    "def fibonacci(n):\n",
    "    if n == 0:\n",
    "        return 0\n",
    "    elif n == 1:\n",
    "        return 1\n",
    "    else:\n",
    "        return fibonacci(n-1) + fibonacci(n-2)"
   ]
  },
  {
   "cell_type": "markdown",
   "id": "4e600ee5",
   "metadata": {},
   "source": [
    "En esta función, los casos bases son si `n` es igual a 0 o 1, en cuyo caso devolvemos 0 o 1, respectivamente. Si `n` no es igual a 0 o 1, hacemos dos llamadas recursivas a la función para los números `n-1` y `n-2` y sumamos los resultados.\n",
    "\n",
    "Veamos cómo funciona esta función con `n=6`:"
   ]
  },
  {
   "cell_type": "code",
   "execution_count": null,
   "id": "79919682",
   "metadata": {
    "ExecuteTime": {
     "end_time": "2023-06-05T22:24:25.460126Z",
     "start_time": "2023-06-05T22:24:25.448097Z"
    }
   },
   "outputs": [],
   "source": [
    "result = fibonacci(6)\n",
    "print(result)"
   ]
  },
  {
   "cell_type": "markdown",
   "id": "1c0a5f5d",
   "metadata": {},
   "source": [
    "Como puedes ver, la función `fibonacci` ha calculado el enésimo número de la secuencia de Fibonacci (en este caso, el sexto número) utilizando la recursividad. El sexto número de la secuencia de Fibonacci es 8 (0, 1, 1, 2, 3, 5, 8...)."
   ]
  }
 ],
 "metadata": {
  "kernelspec": {
   "display_name": "Python 3 (ipykernel)",
   "language": "python",
   "name": "python3"
  },
  "language_info": {
   "codemirror_mode": {
    "name": "ipython",
    "version": 3
   },
   "file_extension": ".py",
   "mimetype": "text/x-python",
   "name": "python",
   "nbconvert_exporter": "python",
   "pygments_lexer": "ipython3",
   "version": "3.10.13"
  },
  "varInspector": {
   "cols": {
    "lenName": 16,
    "lenType": 16,
    "lenVar": 40
   },
   "kernels_config": {
    "python": {
     "delete_cmd_postfix": "",
     "delete_cmd_prefix": "del ",
     "library": "var_list.py",
     "varRefreshCmd": "print(var_dic_list())"
    },
    "r": {
     "delete_cmd_postfix": ") ",
     "delete_cmd_prefix": "rm(",
     "library": "var_list.r",
     "varRefreshCmd": "cat(var_dic_list()) "
    }
   },
   "types_to_exclude": [
    "module",
    "function",
    "builtin_function_or_method",
    "instance",
    "_Feature"
   ],
   "window_display": false
  }
 },
 "nbformat": 4,
 "nbformat_minor": 5
}
