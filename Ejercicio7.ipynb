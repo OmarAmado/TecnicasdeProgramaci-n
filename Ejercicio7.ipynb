{
  "nbformat": 4,
  "nbformat_minor": 0,
  "metadata": {
    "colab": {
      "provenance": [],
      "authorship_tag": "ABX9TyNXF6L7yb6L3aVUkg3lPh+y",
      "include_colab_link": true
    },
    "kernelspec": {
      "name": "python3",
      "display_name": "Python 3"
    },
    "language_info": {
      "name": "python"
    }
  },
  "cells": [
    {
      "cell_type": "markdown",
      "metadata": {
        "id": "view-in-github",
        "colab_type": "text"
      },
      "source": [
        "<a href=\"https://colab.research.google.com/github/OmarAmado/TecnicasdeProgramaci-n/blob/main/Ejercicio7.ipynb\" target=\"_parent\"><img src=\"https://colab.research.google.com/assets/colab-badge.svg\" alt=\"Open In Colab\"/></a>"
      ]
    },
    {
      "cell_type": "code",
      "execution_count": 1,
      "metadata": {
        "colab": {
          "base_uri": "https://localhost:8080/"
        },
        "id": "BN5oPtKE35Qh",
        "outputId": "12a8cd43-90ed-452b-c654-7b07433a1a8b"
      },
      "outputs": [
        {
          "output_type": "stream",
          "name": "stdout",
          "text": [
            "Temperaturas en grados Celsius: [0.0, 7.222222222222222, 15.555555555555555, 22.22222222222222, 29.444444444444443, 32.22222222222222, 37.77777777777778, 43.333333333333336, -9.444444444444445, -2.2222222222222223, 4.444444444444445, 12.777777777777779, 19.444444444444443, 25.555555555555557, 31.11111111111111, 35.0, 38.888888888888886, 48.888888888888886, 54.44444444444444, 60.0]\n",
            "Temperaturas mayores a 10°C: [15.555555555555555, 22.22222222222222, 29.444444444444443, 32.22222222222222, 37.77777777777778, 43.333333333333336, 12.777777777777779, 19.444444444444443, 25.555555555555557, 31.11111111111111, 35.0, 38.888888888888886, 48.888888888888886, 54.44444444444444, 60.0]\n",
            "Promedio de las temperaturas filtradas: 33.77777777777778\n"
          ]
        }
      ],
      "source": [
        "# Importamos las librerías necesarias\n",
        "from functools import reduce\n",
        "\n",
        "# Lista de temperaturas en grados Fahrenheit\n",
        "temperatures_f = [32, 45, 60, 72, 85, 90, 100, 110, 15, 28, 40, 55, 67, 78, 88, 95, 102, 120, 130, 140]\n",
        "\n",
        "# 1. Convertir las temperaturas a grados Celsius usando map y una función lambda\n",
        "temperatures_c = list(map(lambda F: (F - 32) * 5/9, temperatures_f))\n",
        "\n",
        "# 2. Filtrar las temperaturas mayores a 10°C usando filter y una función lambda\n",
        "temperatures_above_10c = list(filter(lambda C: C > 10, temperatures_c))\n",
        "\n",
        "# 3. Calcular el promedio de las temperaturas filtradas usando reduce y una función lambda\n",
        "average_temperature = reduce(lambda acc, temp: acc + temp, temperatures_above_10c) / len(temperatures_above_10c)\n",
        "\n",
        "# Mostrar resultados\n",
        "print(\"Temperaturas en grados Celsius:\", temperatures_c)\n",
        "print(\"Temperaturas mayores a 10°C:\", temperatures_above_10c)\n",
        "print(\"Promedio de las temperaturas filtradas:\", average_temperature)\n"
      ]
    }
  ]
}