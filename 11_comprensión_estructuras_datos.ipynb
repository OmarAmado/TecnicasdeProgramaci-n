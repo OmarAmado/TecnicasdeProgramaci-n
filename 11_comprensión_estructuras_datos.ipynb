{
 "cells": [
  {
   "cell_type": "markdown",
   "id": "22d0eed2",
   "metadata": {},
   "source": [
    "# Comprensión de Estructuras de Datos\n",
    "\n",
    "La comprensión de estructuras de datos en Python es una técnica que permite construir nuevas estructuras de datos, como listas y diccionarios, de forma más rápida y concisa utilizando una sintaxis especial. En lugar de crear estructuras de datos mediante un bucle for o una serie de condiciones if, podemos utilizar una única línea de código para crear una nueva estructura de datos a partir de una existente. Esto hace que el código sea más legible, fácil de escribir y de mantener. La comprensión de estructuras de datos es una técnica poderosa y muy utilizada en Python que permite trabajar con grandes cantidades de datos de manera eficiente y elegante.\n",
    "\n",
    "Algunos de los más importantes son:\n",
    "\n",
    "1. Comprensión de Listas\n",
    "2. Comprensión de Diccionarios\n",
    "3. Comprensión de Conjuntos\n",
    "\n",
    "Comencemos con la Comprensión de Listas.\n",
    "\n",
    "## Comprensión de Listas\n",
    "\n",
    "La Comprensión de Listas es una forma concisa y elegante de crear una nueva lista a partir de otra lista existente. Se utiliza una sintaxis compacta y legible para filtrar, mapear y transformar los elementos de una lista. Básicamente, te permite crear una lista aplicando una expresión a cada elemento de otra lista (o a un iterador, como una cadena de caracteres). Esto se hace en una sola línea de código.\n",
    "\n",
    "La sintaxis general de la comprensión de listas es la siguiente:"
   ]
  },
  {
   "cell_type": "raw",
   "id": "95cbab4c",
   "metadata": {},
   "source": [
    "[nombre_de_elemento for elemento in lista if condicion]"
   ]
  },
  {
   "cell_type": "markdown",
   "id": "7d6d3016",
   "metadata": {},
   "source": [
    "Donde:\n",
    "\n",
    "* `nombre_de_elemento` es la expresión que se aplica a cada elemento de la lista para crear la nueva lista.\n",
    "* `elemento` es cada uno de los elementos de la lista original.\n",
    "* `lista` es la lista original que se está procesando.\n",
    "* `condicion` es una expresión opcional que filtra los elementos que se incluyen en la nueva lista.\n",
    "\n",
    "Vamos a ver un ejemplo para que quede más claro. Supongamos que tenemos una lista de números y queremos crear una nueva lista que contenga sólo los números pares de la lista original. Podemos hacer esto fácilmente utilizando la Comprensión de Listas:"
   ]
  },
  {
   "cell_type": "code",
   "execution_count": null,
   "id": "2bf89d2e",
   "metadata": {
    "ExecuteTime": {
     "end_time": "2023-06-05T22:28:55.403171Z",
     "start_time": "2023-06-05T22:28:55.395149Z"
    }
   },
   "outputs": [],
   "source": [
    "numeros = [1, 2, 3, 4, 5, 6, 7, 8, 9, 10]\n",
    "numeros_pares = [x for x in numeros if x % 2 == 0]\n",
    "print(numeros_pares) # Salida: [2, 4, 6, 8, 10]"
   ]
  },
  {
   "cell_type": "code",
   "execution_count": null,
   "id": "5f2175bb",
   "metadata": {
    "ExecuteTime": {
     "end_time": "2023-06-05T22:35:46.585366Z",
     "start_time": "2023-06-05T22:35:46.573346Z"
    }
   },
   "outputs": [],
   "source": [
    "numeros_pares=[]\n",
    "for numero in numeros:\n",
    "    if numero % 2 == 0:\n",
    "        numeros_pares.append(numero)\n",
    "print(numeros_pares)"
   ]
  },
  {
   "cell_type": "markdown",
   "id": "448d2780",
   "metadata": {},
   "source": [
    "En este ejemplo, utilizamos una Comprensión de Listas para crear una nueva lista `numeros_pares` que contiene sólo los números pares de la lista `numeros` original.\n",
    "\n",
    "Ahora veamos otro ejemplo un poco más complejo. Supongamos que tenemos una lista de cadenas y queremos crear una nueva lista que contenga sólo las cadenas que tienen una longitud mayor a 5 y que empiezan con una letra mayúscula. Podemos hacer esto fácilmente utilizando la Comprensión de Listas:"
   ]
  },
  {
   "cell_type": "code",
   "execution_count": null,
   "id": "25e63cde",
   "metadata": {
    "ExecuteTime": {
     "end_time": "2023-06-05T22:37:16.144010Z",
     "start_time": "2023-06-05T22:37:16.127997Z"
    }
   },
   "outputs": [],
   "source": [
    "palabras = [\"Python\", \"es\", \"un\", \"Lenguaje\", \"de\",\n",
    "            \"Programación\", \"poderoso\", \"y\", \"fácil\",\n",
    "            \"de\", \"Aprender\"]\n",
    "palabras_seleccionadas = \\\n",
    "[palabra+\"$\" for palabra in palabras if len(palabra) > 5 and palabra[0].isupper()]\n",
    "print(palabras_seleccionadas) # Salida: ['Python', 'Lenguaje', 'Programación', 'Aprender']"
   ]
  },
  {
   "cell_type": "code",
   "execution_count": null,
   "id": "3d75f4cf",
   "metadata": {},
   "outputs": [],
   "source": [
    "palabras = [\"Python\", \"es\", \"un\", \"Lenguaje\", \"de\",\n",
    "            \"Programación\", \"poderoso\", \"y\", \"fácil\",\n",
    "            \"de\", \"Aprender\"]\n",
    "palabras_seleccionadas=[]\n",
    "for palabra in palabras:\n",
    "    if len(palabra) > 5 and palabra[0].isupper():\n",
    "        palabras_seleccionadas.append(palabra+'$')\n",
    "print(palabras_seleccionadas)"
   ]
  },
  {
   "cell_type": "markdown",
   "id": "53d32b6c",
   "metadata": {},
   "source": [
    "En este ejemplo, utilizamos una Comprensión de Listas para crear una nueva lista `palabras_seleccionadas` que contiene sólo las palabras que tienen una longitud mayor a 5 y que empiezan con una letra mayúscula.\n",
    "\n",
    "En un nuevo ejemplo, supongamos que tenemos una lista de listas llamada `matrix` y queremos obtener una nueva lista que contenga la suma de los elementos de cada sublista de la matriz:"
   ]
  },
  {
   "cell_type": "code",
   "execution_count": null,
   "id": "1b398c79",
   "metadata": {
    "ExecuteTime": {
     "end_time": "2023-06-05T22:38:56.431603Z",
     "start_time": "2023-06-05T22:38:56.415564Z"
    }
   },
   "outputs": [],
   "source": [
    "matrix = [[1, 2, 3], [4, 5, 6], [7, 8, 9]]\n",
    "sums = [sum(row) for row in matrix]\n",
    "print(sums)  # Salida: [6, 15, 24]"
   ]
  },
  {
   "cell_type": "code",
   "execution_count": null,
   "id": "5799dc73",
   "metadata": {},
   "outputs": [],
   "source": [
    "# generar version larga del código de arriba\n"
   ]
  },
  {
   "cell_type": "markdown",
   "id": "50e94b62",
   "metadata": {},
   "source": [
    "En este ejemplo, usamos la función `sum()` de Python para calcular la suma de cada sublista de la matriz. Usamos una comprensión de lista para iterar a través de cada sublista de la matriz y calcular la suma correspondiente. Luego, la lista resultante de las sumas se almacena en la variable `sums`.\n",
    "\n",
    "Ahora vamos a ver un ejemplo usando `if-else`. Supongamos que tienes una lista de números y quieres crear una nueva lista que contenga los números impares multiplicados por 2 y los números pares divididos por 2. En este caso, puedes usar la comprensión de listas con una estructura `if-else` para lograrlo."
   ]
  },
  {
   "cell_type": "code",
   "execution_count": null,
   "id": "b43400a2",
   "metadata": {
    "ExecuteTime": {
     "end_time": "2023-06-05T22:40:00.469654Z",
     "start_time": "2023-06-05T22:40:00.462067Z"
    }
   },
   "outputs": [],
   "source": [
    "numeros = [1, 2, 3, 4, 5, 6, 7, 8, 9, 10]\n",
    "nueva_lista = [num * 2 if num % 2 != 0 else num / 2 for num in numeros]\n",
    "\n",
    "print(nueva_lista)"
   ]
  },
  {
   "cell_type": "code",
   "execution_count": null,
   "id": "59c111ee",
   "metadata": {},
   "outputs": [],
   "source": [
    "# Escriban la versión larga del código anterior\n"
   ]
  },
  {
   "cell_type": "markdown",
   "id": "8a05e65f",
   "metadata": {},
   "source": [
    "## Comprensión de Diccionarios\n",
    "\n",
    "El tema de la comprensión de diccionarios en Python se refiere a una forma concisa de crear un nuevo diccionario a partir de un iterable (por ejemplo, una lista o un rango) utilizando una sintaxis especial llamada comprensión de diccionario.\n",
    "\n",
    "La comprensión de diccionario en Python sigue la misma estructura de la comprensión de listas, pero en lugar de crear una lista, se crea un diccionario. En resumen, la comprensión de diccionario es una forma de crear un diccionario utilizando menos código que si se usara la forma tradicional con un bucle for y condicionales.\n",
    "\n",
    "La sintaxis básica de una comprensión de diccionario es la siguiente:"
   ]
  },
  {
   "cell_type": "raw",
   "id": "c78dfda2",
   "metadata": {},
   "source": [
    "{clave: valor for elemento in iterable}"
   ]
  },
  {
   "cell_type": "markdown",
   "id": "0982bb5e",
   "metadata": {},
   "source": [
    "Donde `clave` y `valor` son las llaves y valores respectivamente que se van a agregar al diccionario, `elemento` es cada elemento del iterable y `iterable` es una lista, tupla, rango u otro objeto iterable.\n",
    "\n",
    "Aquí tenemos una serie de ejemplos aumentando la complejidad:\n",
    "\n",
    "1. Ejemplo sencillo:"
   ]
  },
  {
   "cell_type": "code",
   "execution_count": null,
   "id": "5cf95ef2",
   "metadata": {
    "ExecuteTime": {
     "end_time": "2023-06-05T22:41:37.335691Z",
     "start_time": "2023-06-05T22:41:37.327245Z"
    }
   },
   "outputs": [],
   "source": [
    "numbers = [1, 2, 3, 4, 5]\n",
    "squared_numbers = {num: num**2 for num in numbers}\n",
    "print(squared_numbers)"
   ]
  },
  {
   "cell_type": "code",
   "execution_count": null,
   "id": "ab79676d",
   "metadata": {},
   "outputs": [],
   "source": [
    "squared_numbers[3]"
   ]
  },
  {
   "cell_type": "markdown",
   "id": "62ac7fb3",
   "metadata": {},
   "source": [
    "Este código crea un diccionario que mapea cada número en `numbers` con su cuadrado correspondiente. La salida sería: `{1: 1, 2: 4, 3: 9, 4: 16, 5: 25}`.\n",
    "\n",
    "2. Ejemplo medio:"
   ]
  },
  {
   "cell_type": "code",
   "execution_count": null,
   "id": "7483226c",
   "metadata": {
    "ExecuteTime": {
     "end_time": "2023-06-05T22:42:39.366381Z",
     "start_time": "2023-06-05T22:42:39.358240Z"
    }
   },
   "outputs": [],
   "source": [
    "fruits = ['apple', 'banana', 'kiwi', 'orange']\n",
    "fruit_lengths = {fruit: len(fruit) for fruit in fruits if len(fruit) > 4}\n",
    "print(fruit_lengths)"
   ]
  },
  {
   "cell_type": "markdown",
   "id": "6602b71d",
   "metadata": {},
   "source": [
    "Este código crea un diccionario que mapea cada fruta en la lista `fruits` con su longitud correspondiente, pero solo para frutas cuya longitud es mayor a 4. La salida sería: `{'banana': 6, 'orange': 6}`.\n",
    "\n",
    "3. Ejemplo avanzado:"
   ]
  },
  {
   "cell_type": "code",
   "execution_count": null,
   "id": "fa34b21f",
   "metadata": {
    "ExecuteTime": {
     "end_time": "2023-06-05T22:45:12.513893Z",
     "start_time": "2023-06-05T22:45:12.502227Z"
    }
   },
   "outputs": [],
   "source": [
    "words = ['hello', 'world', 'python', 'programming', 'language']\n",
    "vowel_counts = {word: sum([1 for letter in word if letter in 'aeiou']) for word in words}\n",
    "print(vowel_counts)"
   ]
  },
  {
   "cell_type": "markdown",
   "id": "0e3c0403",
   "metadata": {},
   "source": [
    "Este código crea un diccionario que mapea cada palabra en la lista `words` con el número de vocales que contiene. La salida sería: `{'hello': 2, 'world': 1, 'python': 1, 'programming': 3, 'language': 3}`.\n",
    "\n",
    "4. Ejemplo complejo:"
   ]
  },
  {
   "cell_type": "code",
   "execution_count": null,
   "id": "2d4fd8c3",
   "metadata": {
    "ExecuteTime": {
     "end_time": "2023-06-05T22:49:24.347158Z",
     "start_time": "2023-06-05T22:49:24.332504Z"
    }
   },
   "outputs": [],
   "source": [
    "data = [\n",
    "    {'name': 'Alice', 'age': 28, 'gender': 'F'},\n",
    "    {'name': 'Bob', 'age': 35, 'gender': 'M'},\n",
    "    {'name': 'Charlie', 'age': 42, 'gender': 'M'},\n",
    "    {'name': 'David', 'age': 25, 'gender': 'M'},\n",
    "    {'name': 'Eve', 'age': 30, 'gender': 'F'}\n",
    "]\n",
    "\n",
    "gender_age_counts = {\n",
    "    gender: {\n",
    "        'total': len([person for person in data if person['gender'] == gender]),\n",
    "        'average_age': sum([person['age'] for person in data if person['gender'] == gender]) \\\n",
    "        / len([person for person in data if person['gender'] == gender])\n",
    "    }\n",
    "    for gender in set([person['gender'] for person in data])\n",
    "}\n",
    "\n",
    "print(gender_age_counts)"
   ]
  },
  {
   "cell_type": "markdown",
   "id": "b52b38c8",
   "metadata": {},
   "source": [
    "Este código crea un diccionario que mapea cada género en la lista de diccionarios `data` con un diccionario que contiene el número total de personas y la edad promedio de las personas de ese género. La salida sería: `{'M': {'total': 3, 'average_age': 34.0}, 'F': {'total': 2, 'average_age': 29.0}}`."
   ]
  },
  {
   "cell_type": "markdown",
   "id": "a7c8cef1",
   "metadata": {},
   "source": [
    "## Comprensión de Conjuntos\n",
    "\n",
    "La comprensión de conjuntos es una técnica en Python que permite crear un conjunto (set) utilizando una sintaxis compacta. Al igual que con las listas y los diccionarios, la comprensión de conjuntos permite crear conjuntos en una sola línea de código.\n",
    "\n",
    "La sintaxis básica de la comprensión de conjuntos es la siguiente:"
   ]
  },
  {
   "cell_type": "raw",
   "id": "be2d8bf4",
   "metadata": {},
   "source": [
    "{expr for item in iterable}"
   ]
  },
  {
   "cell_type": "markdown",
   "id": "6d28ae66",
   "metadata": {},
   "source": [
    "Donde:\n",
    "- `expr` es una expresión que se evalúa para cada elemento del iterable.\n",
    "- `item` es cada elemento del iterable.\n",
    "- `condition` es opcional y permite filtrar los elementos que serán incluidos en el conjunto.\n",
    "\n",
    "Veamos ejemplos de diferentes niveles de complejidad.\n",
    "\n",
    "### Ejemplo Básico: Palabras Únicas con Más de 4 Letras\n",
    "Crear un conjunto que contenga palabras únicas de una lista, pero solo si tienen más de 4 letras y no comienzan con una vocal."
   ]
  },
  {
   "cell_type": "code",
   "execution_count": null,
   "id": "9eabcdcc",
   "metadata": {
    "ExecuteTime": {
     "end_time": "2023-06-05T22:53:51.025036Z",
     "start_time": "2023-06-05T22:53:51.017009Z"
    }
   },
   "outputs": [],
   "source": [
    "# Lista de palabras inicial\n",
    "palabras = [\"python\", \"programación\", \"arte\", \"idea\", \"estructura\", \"universo\", \"idea\", \"arte\"]\n",
    "\n",
    "# Conjunto de palabras únicas con más de 4 letras que no comienzan con vocal\n",
    "palabras_filtradas = {palabra for palabra in palabras if len(palabra) > 4 and palabra[0].lower() not in \"aeiou\"}\n",
    "print(palabras_filtradas)  # Salida: {'estructura', 'programación', 'python'}"
   ]
  },
  {
   "cell_type": "markdown",
   "id": "b2b63441",
   "metadata": {},
   "source": [
    "### Ejemplo Intermedio: Nombres de Personas con Inicial Única\n",
    "\n",
    "Dada una lista de nombres de personas, crea un conjunto que contenga las iniciales únicas de los nombres que comienzan con una consonante.\n",
    "\n",
    "Esto es útil, por ejemplo, para agrupar personas en categorías basadas en iniciales o para análisis textual."
   ]
  },
  {
   "cell_type": "code",
   "execution_count": null,
   "id": "9fdef620",
   "metadata": {
    "ExecuteTime": {
     "end_time": "2023-06-05T22:54:10.891821Z",
     "start_time": "2023-06-05T22:54:10.883799Z"
    }
   },
   "outputs": [],
   "source": [
    "# Lista de nombres\n",
    "nombres = [\"Ana\", \"Pedro\", \"Luis\", \"María\", \"Carlos\", \"Sofía\", \"Omar\", \"Juan\", \"Elena\", \"Isabel\"]\n",
    "\n",
    "# Conjunto de iniciales únicas de nombres que comienzan con consonante\n",
    "iniciales_consonantes = {nombre[0].upper() for nombre in nombres if nombre[0].lower() not in \"aeiou\"}\n",
    "print(iniciales_consonantes)  # Salida: {'P', 'L', 'C', 'S', 'J'}"
   ]
  },
  {
   "cell_type": "markdown",
   "id": "be14ec31",
   "metadata": {},
   "source": [
    "### Ejemplo Complejo: Crear Combinaciones Unicas de Palabras y Longitudes\n",
    "\n",
    "Dada una lista de frases, crea un conjunto que contenga tuplas únicas. Cada tupla debe incluir una palabra y su longitud, pero solo si la palabra tiene más de 4 caracteres y no comienza con una vocal.\n",
    "\n",
    "Este tipo de estructura puede ser útil para análisis textuales, donde necesitas relacionar palabras con métricas como su longitud."
   ]
  },
  {
   "cell_type": "code",
   "execution_count": null,
   "id": "86bc5587",
   "metadata": {},
   "outputs": [],
   "source": [
    "# Lista de frases\n",
    "frases = [\n",
    "    \"La programación en Python es poderosa\",\n",
    "    \"Crear conjuntos es eficiente y útil\",\n",
    "    \"Filtrar datos y procesar estructuras\"\n",
    "]\n",
    "\n",
    "# Crear un conjunto de tuplas (palabra, longitud) con condiciones\n",
    "palabras_y_longitudes = {\n",
    "    (palabra, len(palabra))\n",
    "    for frase in frases\n",
    "    for palabra in frase.split()\n",
    "    if len(palabra) > 4 and palabra[0].lower() not in \"aeiou\"\n",
    "}\n",
    "print(palabras_y_longitudes)\n",
    "# Salida: {('programación', 12), ('estructuras', 11), ('conjuntos', 9), ('procesar', 8), ('datos', 5), ('crear', 5)}\n"
   ]
  },
  {
   "cell_type": "markdown",
   "id": "1551ca30",
   "metadata": {},
   "source": [
    "## Ejercicio: Organizar Inventario de Productos\n",
    "\n",
    "Dado un inventario representado como una lista de diccionarios, realiza las siguientes tareas:\n",
    "\n",
    "1. **Filtrar productos disponibles:**\n",
    "   Genera una nueva lista que contenga únicamente los productos cuyo stock sea mayor a 0.\n",
    "\n",
    "2. **Crear un diccionario de precios por categoría:**\n",
    "   Crea un diccionario donde las claves sean las categorías de los productos y los valores sean listas con los precios de los productos en esa categoría.\n",
    "\n",
    "3. **Calcular el valor total del inventario:**\n",
    "   Suma los precios de todos los productos disponibles (stock > 0) multiplicados por la cantidad en stock.\n",
    "\n",
    "### Datos de Entrada\n",
    "\n",
    "Una lista de diccionarios que representan productos en un inventario:\n",
    "\n",
    "```python\n",
    "inventario = [\n",
    "    {\"nombre\": \"Laptop\", \"categoria\": \"Electrónica\", \"precio\": 1500, \"stock\": 4},\n",
    "    {\"nombre\": \"Celular\", \"categoria\": \"Electrónica\", \"precio\": 800, \"stock\": 10},\n",
    "    {\"nombre\": \"Escritorio\", \"categoria\": \"Muebles\", \"precio\": 200, \"stock\": 5},\n",
    "    {\"nombre\": \"Silla\", \"categoria\": \"Muebles\", \"precio\": 100, \"stock\": 0},\n",
    "    {\"nombre\": \"Monitor\", \"categoria\": \"Electrónica\", \"precio\": 300, \"stock\": 7},\n",
    "    {\"nombre\": \"Teclado\", \"categoria\": \"Electrónica\", \"precio\": 50, \"stock\": 15},\n",
    "    {\"nombre\": \"Mouse\", \"categoria\": \"Electrónica\", \"precio\": 25, \"stock\": 20},\n",
    "    {\"nombre\": \"Cama\", \"categoria\": \"Muebles\", \"precio\": 500, \"stock\": 2},\n",
    "    {\"nombre\": \"Lámpara\", \"categoria\": \"Decoración\", \"precio\": 75, \"stock\": 12},\n",
    "    {\"nombre\": \"Reloj\", \"categoria\": \"Decoración\", \"precio\": 150, \"stock\": 0},\n",
    "    {\"nombre\": \"Libros\", \"categoria\": \"Educación\", \"precio\": 20, \"stock\": 50},\n",
    "    {\"nombre\": \"Calculadora\", \"categoria\": \"Educación\", \"precio\": 100, \"stock\": 8},\n",
    "    {\"nombre\": \"Cojín\", \"categoria\": \"Decoración\", \"precio\": 30, \"stock\": 25},\n",
    "    {\"nombre\": \"Mesa\", \"categoria\": \"Muebles\", \"precio\": 300, \"stock\": 3},\n",
    "    {\"nombre\": \"Audífonos\", \"categoria\": \"Electrónica\", \"precio\": 200, \"stock\": 10},\n",
    "    {\"nombre\": \"Ventilador\", \"categoria\": \"Electrodomésticos\", \"precio\": 120, \"stock\": 6},\n",
    "    {\"nombre\": \"Refrigerador\", \"categoria\": \"Electrodomésticos\", \"precio\": 800, \"stock\": 1},\n",
    "    {\"nombre\": \"Impresora\", \"categoria\": \"Electrónica\", \"precio\": 350, \"stock\": 0}\n",
    "]\n",
    "```\n",
    "\n",
    "### Objetivo\n",
    "\n",
    "Al final, deberás haber generado:\n",
    "\n",
    "- Una lista con los productos disponibles.\n",
    "- Un diccionario con los precios organizados por categorías.\n",
    "- Un valor total del inventario basado en los productos disponibles.\n",
    "\n",
    "### Notas\n",
    "\n",
    "- Piensa en cómo estructurar cada paso para aprovechar al máximo las comprensiones de listas y otras herramientas vistas en la libreta.\n",
    "- Asegúrate de que el código sea adaptable si se agregan más productos al inventario.\n"
   ]
  }
 ],
 "metadata": {
  "kernelspec": {
   "display_name": "base",
   "language": "python",
   "name": "python3"
  },
  "language_info": {
   "codemirror_mode": {
    "name": "ipython",
    "version": 3
   },
   "file_extension": ".py",
   "mimetype": "text/x-python",
   "name": "python",
   "nbconvert_exporter": "python",
   "pygments_lexer": "ipython3",
   "version": "3.10.13"
  },
  "varInspector": {
   "cols": {
    "lenName": 16,
    "lenType": 16,
    "lenVar": 40
   },
   "kernels_config": {
    "python": {
     "delete_cmd_postfix": "",
     "delete_cmd_prefix": "del ",
     "library": "var_list.py",
     "varRefreshCmd": "print(var_dic_list())"
    },
    "r": {
     "delete_cmd_postfix": ") ",
     "delete_cmd_prefix": "rm(",
     "library": "var_list.r",
     "varRefreshCmd": "cat(var_dic_list()) "
    }
   },
   "types_to_exclude": [
    "module",
    "function",
    "builtin_function_or_method",
    "instance",
    "_Feature"
   ],
   "window_display": false
  }
 },
 "nbformat": 4,
 "nbformat_minor": 5
}
